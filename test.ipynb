{
 "cells": [
  {
   "cell_type": "code",
   "execution_count": 1,
   "metadata": {},
   "outputs": [],
   "source": [
    "#from google.colab import drive\n",
    "#drive.mount('/content/drive')"
   ]
  },
  {
   "cell_type": "code",
   "execution_count": 2,
   "metadata": {},
   "outputs": [],
   "source": [
    "#%cd /content/drive/My Drive/MLDL2024_project1-Enrico"
   ]
  },
  {
   "cell_type": "code",
   "execution_count": 3,
   "metadata": {},
   "outputs": [],
   "source": [
    "import os\n",
    "import torch\n",
    "import numpy as np\n",
    "from torchvision import transforms\n",
    "from torch.utils.data import DataLoader\n",
    "from datasets.cityscapes import CityscapesCustom\n",
    "from models.deeplabv2.deeplabv2 import get_deeplab_v2\n",
    "import torch.optim as optim"
   ]
  },
  {
   "cell_type": "code",
   "execution_count": 4,
   "metadata": {},
   "outputs": [
    {
     "data": {
      "text/plain": [
       "device(type='cpu')"
      ]
     },
     "execution_count": 4,
     "metadata": {},
     "output_type": "execute_result"
    }
   ],
   "source": [
    "#Set device agnostic code\n",
    "device = torch.device(\"cuda\" if torch.cuda.is_available() else \"cpu\")\n",
    "device"
   ]
  },
  {
   "cell_type": "code",
   "execution_count": 5,
   "metadata": {},
   "outputs": [
    {
     "name": "stdout",
     "output_type": "stream",
     "text": [
      "Train: 1572 images, divided into 393 batches of size 4\n",
      "Test: 500 images, divided into 125 batches of size 4\n"
     ]
    }
   ],
   "source": [
    "#Create Dataloaders for Cityscapes\n",
    "cityscapes_dir = os.path.dirname(os.getcwd()) + '/Cityscapes/Cityspaces/'\n",
    "\n",
    "train_dataset = CityscapesCustom(cityscapes_dir, 'train')\n",
    "test_dataset = CityscapesCustom(cityscapes_dir, 'val')\n",
    "\n",
    "train_dataloader = DataLoader(train_dataset, batch_size=4, shuffle=True)\n",
    "test_dataloader = DataLoader(test_dataset, batch_size=4, shuffle=False)\n",
    "\n",
    "print(f'Train: {len(train_dataset)} images, divided into {len(train_dataloader)} batches of size {train_dataloader.batch_size}')\n",
    "print(f'Test: {len(test_dataset)} images, divided into {len(test_dataloader)} batches of size {test_dataloader.batch_size}')"
   ]
  },
  {
   "cell_type": "code",
   "execution_count": 6,
   "metadata": {},
   "outputs": [
    {
     "name": "stdout",
     "output_type": "stream",
     "text": [
      "Deeplab pretraining loading...\n"
     ]
    }
   ],
   "source": [
    "#Set up the model with the pretrained weights\n",
    "model = get_deeplab_v2().to(device)"
   ]
  },
  {
   "cell_type": "code",
   "execution_count": 7,
   "metadata": {},
   "outputs": [],
   "source": [
    "criterion = torch.nn.CrossEntropyLoss()\n",
    "optimizer = optim.Adam(model.parameters(), lr=1e-3)"
   ]
  },
  {
   "cell_type": "code",
   "execution_count": 8,
   "metadata": {},
   "outputs": [],
   "source": [
    "#Set the manual seeds\n",
    "torch.manual_seed(42)\n",
    "torch.cuda.manual_seed(42)"
   ]
  },
  {
   "cell_type": "code",
   "execution_count": 9,
   "metadata": {},
   "outputs": [],
   "source": [
    "def train_model(model, criterion, optimizer, train_dataloader, test_dataloader, n_epochs=1):\n",
    "    for epoch in range(n_epochs):\n",
    "        model.train()\n",
    "        train_loss = 0.0\n",
    "        for i, (inputs, labels) in enumerate(train_dataloader):\n",
    "            if i == 1:\n",
    "                break\n",
    "            inputs, labels = inputs.to(device), labels.to(device)\n",
    "            print(f'Inputs train: {inputs.shape}, {inputs.dtype}')\n",
    "            print(f'Labels train: {labels.shape}, {labels.dtype}')\n",
    "            optimizer.zero_grad()\n",
    "            outputs, _, _ = model(inputs)\n",
    "            print(f'Outputs train: {outputs.shape}, {outputs.dtype}')\n",
    "\n",
    "            loss = criterion(outputs, labels.squeeze(1))\n",
    "            loss.backward()\n",
    "            optimizer.step()\n",
    "            train_loss += loss.item()\n",
    "            \n",
    "        train_loss /= len(train_dataloader)\n",
    "        \n",
    "        model.eval()\n",
    "        test_loss = 0.0\n",
    "        with torch.no_grad():\n",
    "            for i, (inputs, labels) in enumerate(test_dataloader):\n",
    "                if i == 1:\n",
    "                    break\n",
    "                inputs, labels = inputs.to(device), labels.to(device)\n",
    "                #print(f'Inputs test: {inputs.shape}, {inputs.dtype}')\n",
    "                #print(f'Labels test: {labels.shape}, {labels.dtype}')\n",
    "                outputs = model(inputs)\n",
    "                #print(f'Outputs test: {outputs.shape}, {outputs.dtype}')\n",
    "\n",
    "                loss = criterion(outputs, labels.squeeze(1))\n",
    "                test_loss += loss.item()\n",
    "                \n",
    "            test_loss /= len(test_dataloader)\n",
    "        \n",
    "        print(f'Epoch {epoch+1}/{n_epochs}, Train Loss: {train_loss:.4f}, Test Loss: {test_loss:.4f}')"
   ]
  },
  {
   "cell_type": "code",
   "execution_count": 10,
   "metadata": {},
   "outputs": [
    {
     "name": "stdout",
     "output_type": "stream",
     "text": [
      "Inputs train: torch.Size([4, 3, 512, 1024]), torch.float32\n",
      "Labels train: torch.Size([4, 1, 512, 1024]), torch.int64\n",
      "Outputs train: torch.Size([4, 19, 512, 1024]), torch.float32\n",
      "Inputs test: torch.Size([4, 3, 512, 1024]), torch.float32\n",
      "Labels test: torch.Size([4, 1, 512, 1024]), torch.int64\n",
      "Outputs test: torch.Size([4, 19, 512, 1024]), torch.float32\n",
      "Epoch 1/1, Train Loss: 0.0180, Test Loss: 0.0026\n"
     ]
    }
   ],
   "source": [
    "#Train the model\n",
    "train_model(model, criterion, optimizer, train_dataloader, test_dataloader)"
   ]
  },
  {
   "cell_type": "code",
   "execution_count": null,
   "metadata": {},
   "outputs": [],
   "source": [
    "#IoU metrics calculation\n",
    "prediction = torch.argmax(outputs, dim=1)\n",
    "intersection = np.logical_and(target, prediction)\n",
    "union = np.logical_or(target, prediction)\n",
    "iou_score = np.sum(intersection) / np.sum(union)"
   ]
  }
 ],
 "metadata": {
  "kernelspec": {
   "display_name": "Python 3",
   "language": "python",
   "name": "python3"
  },
  "language_info": {
   "codemirror_mode": {
    "name": "ipython",
    "version": 3
   },
   "file_extension": ".py",
   "mimetype": "text/x-python",
   "name": "python",
   "nbconvert_exporter": "python",
   "pygments_lexer": "ipython3",
   "version": "3.12.0"
  }
 },
 "nbformat": 4,
 "nbformat_minor": 2
}
