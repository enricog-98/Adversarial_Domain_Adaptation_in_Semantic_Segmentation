{
 "cells": [
  {
   "cell_type": "code",
   "execution_count": 1,
   "metadata": {},
   "outputs": [],
   "source": [
    "#Mounting Google Drive from Google Colab\n",
    "#from google.colab import drive\n",
    "#drive.mount('/content/drive')"
   ]
  },
  {
   "cell_type": "code",
   "execution_count": 2,
   "metadata": {},
   "outputs": [],
   "source": [
    "#Changing the current working directory to the Google Drive\n",
    "#%cd /content/drive/My Drive/MLDL2024_project1-Enrico"
   ]
  },
  {
   "cell_type": "code",
   "execution_count": 3,
   "metadata": {},
   "outputs": [],
   "source": [
    "#Importing the necessary libraries\n",
    "import os\n",
    "import torch\n",
    "import numpy as np\n",
    "import torch.optim as optim\n",
    "from torchvision import transforms\n",
    "from torch.utils.data import DataLoader\n",
    "from datasets.cityscapes import CityscapesCustom\n",
    "from models.deeplabv2.deeplabv2 import get_deeplab_v2\n",
    "from models.bisenet.build_bisenet import BiSeNet\n",
    "from train import train_model\n",
    "from utils import test_latency_FPS\n",
    "from utils import test_FLOPs_params"
   ]
  },
  {
   "cell_type": "code",
   "execution_count": 4,
   "metadata": {},
   "outputs": [],
   "source": [
    "#Set device agnostic code\n",
    "device = torch.device(\"cuda\" if torch.cuda.is_available() else \"cpu\")"
   ]
  },
  {
   "cell_type": "code",
   "execution_count": 5,
   "metadata": {},
   "outputs": [
    {
     "name": "stdout",
     "output_type": "stream",
     "text": [
      "Train: 1572 images, divided into 393 batches of size 4\n",
      "Test: 500 images, divided into 125 batches of size 4\n"
     ]
    }
   ],
   "source": [
    "#Create Dataloaders for Cityscapes\n",
    "cityscapes_dir = os.path.dirname(os.getcwd()) + '/Cityscapes/Cityspaces/'\n",
    "\n",
    "cityscapes_train_dataset = CityscapesCustom(cityscapes_dir, 'train', height=8, width=16)\n",
    "cityscapes_test_dataset = CityscapesCustom(cityscapes_dir, 'val', height=8, width=16)\n",
    "\n",
    "cityscapes_train_dataloader = DataLoader(cityscapes_train_dataset, batch_size=4, shuffle=True)\n",
    "cityscapes_test_dataloader = DataLoader(cityscapes_test_dataset, batch_size=4, shuffle=False)\n",
    "\n",
    "print(f'Train: {len(cityscapes_train_dataset)} images, divided into {len(cityscapes_train_dataloader)} batches of size {cityscapes_train_dataloader.batch_size}')\n",
    "print(f'Test: {len(cityscapes_test_dataset)} images, divided into {len(cityscapes_test_dataloader)} batches of size {cityscapes_test_dataloader.batch_size}')"
   ]
  },
  {
   "cell_type": "code",
   "execution_count": 6,
   "metadata": {},
   "outputs": [
    {
     "name": "stdout",
     "output_type": "stream",
     "text": [
      "Deeplab pretraining loading...\n"
     ]
    }
   ],
   "source": [
    "#Testing Classic semantic segmentation network\n",
    "\n",
    "#Set up the model with the pretrained weights\n",
    "DeepLabV2_model = get_deeplab_v2().to(device)\n",
    "\n",
    "#Set up the loss function and the optimizer\n",
    "DeepLabV2_criterion = torch.nn.CrossEntropyLoss(ignore_index=255)\n",
    "DeepLabV2_optimizer = optim.Adam(DeepLabV2_model.parameters(), lr=1e-3)\n",
    "\n",
    "#Set the manual seeds\n",
    "torch.manual_seed(42)\n",
    "torch.cuda.manual_seed(42)"
   ]
  },
  {
   "cell_type": "code",
   "execution_count": 7,
   "metadata": {},
   "outputs": [
    {
     "name": "stdout",
     "output_type": "stream",
     "text": [
      "Epoch 1/10, Train IoU: 48.93% (867/1772), Test IoU: 37.78% (334/884) [0m 12s]\n",
      "Epoch 2/10, Train IoU: 55.58% (937/1686), Test IoU: 58.37% (516/884) [0m 12s]\n",
      "Epoch 3/10, Train IoU: 54.48% (918/1685), Test IoU: 72.74% (643/884) [0m 12s]\n",
      "Epoch 4/10, Train IoU: 65.41% (1106/1691), Test IoU: 66.40% (587/884) [0m 12s]\n",
      "Epoch 5/10, Train IoU: 61.41% (1103/1796), Test IoU: 69.12% (611/884) [0m 12s]\n",
      "Epoch 6/10, Train IoU: 68.82% (1053/1530), Test IoU: 74.66% (660/884) [0m 13s]\n",
      "Epoch 7/10, Train IoU: 71.40% (1236/1731), Test IoU: 80.20% (709/884) [0m 12s]\n",
      "Epoch 8/10, Train IoU: 73.91% (1156/1564), Test IoU: 73.42% (649/884) [0m 12s]\n",
      "Epoch 9/10, Train IoU: 72.22% (1222/1692), Test IoU: 73.98% (654/884) [0m 12s]\n",
      "Epoch 10/10, Train IoU: 71.97% (1091/1516), Test IoU: 75.11% (664/884) [0m 12s]\n",
      "Best IoU: 80.20% at epoch 7\n"
     ]
    }
   ],
   "source": [
    "#Train the model\n",
    "train_model(DeepLabV2_model, DeepLabV2_criterion, DeepLabV2_optimizer,\n",
    "            cityscapes_train_dataloader, cityscapes_test_dataloader,\n",
    "            device, n_epochs=10, lr_schedule=False)\n",
    "\n",
    "#Test latency and FPS\n",
    "#print(test_latency_FPS(DeepLabV2_model, height=4, width=8, device=device))\n",
    "\n",
    "#Test FLOPs and number of parameters\n",
    "#print(test_FLOPs_params(DeepLabV2_model, height=4, width=8, device=device))"
   ]
  },
  {
   "cell_type": "code",
   "execution_count": 8,
   "metadata": {},
   "outputs": [],
   "source": [
    "#Testing Real-Time semantic segmentation network\n",
    "\n",
    "#Set up the model with the pretrained weights\n",
    "BiSeNet_model = BiSeNet(num_classes=19, context_path='resnet18').to(device)\n",
    "\n",
    "#Set up the loss function and the optimizer for BiSeNet\n",
    "BiSeNet_criterion = torch.nn.CrossEntropyLoss(ignore_index=255)\n",
    "BiSeNet_optimizer = torch.optim.SGD(BiSeNet_model.parameters(), lr=2.5e-2, momentum=0.9, weight_decay=1e-4)\n",
    "\n",
    "#Set the manual seeds\n",
    "torch.manual_seed(42)\n",
    "torch.cuda.manual_seed(42)"
   ]
  },
  {
   "cell_type": "code",
   "execution_count": 9,
   "metadata": {},
   "outputs": [
    {
     "name": "stdout",
     "output_type": "stream",
     "text": [
      "Epoch 1/10, Train IoU: 27.88% (494/1772), Test IoU: 46.83% (414/884) [0m 7s]\n",
      "Epoch 2/10, Train IoU: 37.90% (639/1686), Test IoU: 43.55% (385/884) [0m 7s]\n",
      "Epoch 3/10, Train IoU: 34.72% (585/1685), Test IoU: 42.19% (373/884) [0m 7s]\n",
      "Epoch 4/10, Train IoU: 36.01% (609/1691), Test IoU: 46.27% (409/884) [0m 7s]\n",
      "Epoch 5/10, Train IoU: 34.69% (623/1796), Test IoU: 47.29% (418/884) [0m 7s]\n",
      "Epoch 6/10, Train IoU: 43.01% (658/1530), Test IoU: 43.55% (385/884) [0m 7s]\n",
      "Epoch 7/10, Train IoU: 35.12% (608/1731), Test IoU: 46.61% (412/884) [0m 7s]\n",
      "Epoch 8/10, Train IoU: 39.77% (622/1564), Test IoU: 47.29% (418/884) [0m 7s]\n",
      "Epoch 9/10, Train IoU: 45.51% (770/1692), Test IoU: 45.25% (400/884) [0m 8s]\n",
      "Epoch 10/10, Train IoU: 43.21% (655/1516), Test IoU: 43.44% (384/884) [0m 8s]\n",
      "Best IoU: 47.29% at epoch 5\n"
     ]
    }
   ],
   "source": [
    "#Train the model\n",
    "train_model(BiSeNet_model, BiSeNet_criterion, BiSeNet_optimizer,\n",
    "            cityscapes_train_dataloader, cityscapes_test_dataloader,\n",
    "            device, n_epochs=10, lr_schedule=True)\n",
    "\n",
    "#Test latency and FPS\n",
    "#print(test_latency_FPS(BiSeNet_model, height=4, width=8, device=device))\n",
    "\n",
    "#Test FLOPs and number of parameters\n",
    "#print(test_FLOPs_params(BiSeNet_model, height=4, width=8, device=device))"
   ]
  }
 ],
 "metadata": {
  "kernelspec": {
   "display_name": "Python 3",
   "language": "python",
   "name": "python3"
  },
  "language_info": {
   "codemirror_mode": {
    "name": "ipython",
    "version": 3
   },
   "file_extension": ".py",
   "mimetype": "text/x-python",
   "name": "python",
   "nbconvert_exporter": "python",
   "pygments_lexer": "ipython3",
   "version": "3.12.0"
  }
 },
 "nbformat": 4,
 "nbformat_minor": 2
}
