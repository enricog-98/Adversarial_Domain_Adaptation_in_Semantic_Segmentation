{
 "cells": [
  {
   "cell_type": "code",
   "execution_count": 1,
   "metadata": {},
   "outputs": [],
   "source": [
    "#Mounting Google Drive from Google Colab\n",
    "#from google.colab import drive\n",
    "#drive.mount('/content/drive')"
   ]
  },
  {
   "cell_type": "code",
   "execution_count": 2,
   "metadata": {},
   "outputs": [],
   "source": [
    "#Changing the current working directory to the Google Drive\n",
    "#%cd /content/drive/My Drive/MLDL2024_project1-Enrico"
   ]
  },
  {
   "cell_type": "code",
   "execution_count": 3,
   "metadata": {},
   "outputs": [],
   "source": [
    "#Importing the necessary libraries\n",
    "import os\n",
    "import torch\n",
    "import numpy as np\n",
    "import torch.optim as optim\n",
    "from torchvision import transforms\n",
    "from torch.utils.data import DataLoader\n",
    "from datasets.cityscapes import CityscapesCustom\n",
    "from models.deeplabv2.deeplabv2 import get_deeplab_v2\n",
    "from models.bisenet.build_bisenet import BiSeNet\n",
    "from train import train_model\n",
    "from utils import test_latency_FPS\n",
    "from utils import test_FLOPs_params"
   ]
  },
  {
   "cell_type": "code",
   "execution_count": 4,
   "metadata": {},
   "outputs": [],
   "source": [
    "#Set device agnostic code\n",
    "device = torch.device(\"cuda\" if torch.cuda.is_available() else \"cpu\")"
   ]
  },
  {
   "cell_type": "code",
   "execution_count": 5,
   "metadata": {},
   "outputs": [
    {
     "name": "stdout",
     "output_type": "stream",
     "text": [
      "Train: 1572 images, divided into 393 batches of size 4\n",
      "Test: 500 images, divided into 125 batches of size 4\n"
     ]
    }
   ],
   "source": [
    "#Create Dataloaders for Cityscapes\n",
    "cityscapes_dir = os.path.dirname(os.getcwd()) + '/Cityscapes/Cityspaces/'\n",
    "\n",
    "cityscapes_train_dataset = CityscapesCustom(cityscapes_dir, 'train', height=8, width=16)\n",
    "cityscapes_test_dataset = CityscapesCustom(cityscapes_dir, 'val', height=8, width=16)\n",
    "\n",
    "cityscapes_train_dataloader = DataLoader(cityscapes_train_dataset, batch_size=4, shuffle=True)\n",
    "cityscapes_test_dataloader = DataLoader(cityscapes_test_dataset, batch_size=4, shuffle=False)\n",
    "\n",
    "print(f'Train: {len(cityscapes_train_dataset)} images, divided into {len(cityscapes_train_dataloader)} batches of size {cityscapes_train_dataloader.batch_size}')\n",
    "print(f'Test: {len(cityscapes_test_dataset)} images, divided into {len(cityscapes_test_dataloader)} batches of size {cityscapes_test_dataloader.batch_size}')"
   ]
  },
  {
   "cell_type": "code",
   "execution_count": 6,
   "metadata": {},
   "outputs": [
    {
     "name": "stdout",
     "output_type": "stream",
     "text": [
      "Deeplab pretraining loading...\n"
     ]
    }
   ],
   "source": [
    "#Testing Classic semantic segmentation network\n",
    "\n",
    "#Set up the model with the pretrained weights\n",
    "DeepLabV2_model = get_deeplab_v2().to(device)\n",
    "\n",
    "#Set up the loss function and the optimizer\n",
    "DeepLabV2_criterion = torch.nn.CrossEntropyLoss(ignore_index=255)\n",
    "DeepLabV2_optimizer = optim.Adam(DeepLabV2_model.parameters(), lr=1e-3)\n",
    "\n",
    "#Set the manual seeds\n",
    "torch.manual_seed(42)\n",
    "torch.cuda.manual_seed(42)"
   ]
  },
  {
   "cell_type": "code",
   "execution_count": 7,
   "metadata": {},
   "outputs": [
    {
     "name": "stdout",
     "output_type": "stream",
     "text": [
      "Epoch 1/10, IoU: 17.31% (153/884) [13.99s]\n",
      "Epoch 2/10, IoU: 36.88% (326/884) [12.80s]\n",
      "Epoch 3/10, IoU: 51.36% (454/884) [13.23s]\n",
      "Epoch 4/10, IoU: 60.18% (532/884) [13.92s]\n",
      "Epoch 5/10, IoU: 76.02% (672/884) [12.88s]\n",
      "Epoch 6/10, IoU: 74.89% (662/884) [12.40s]\n",
      "Epoch 7/10, IoU: 72.96% (645/884) [12.58s]\n",
      "Epoch 8/10, IoU: 72.06% (637/884) [12.36s]\n",
      "Epoch 9/10, IoU: 79.52% (703/884) [12.27s]\n",
      "Epoch 10/10, IoU: 47.85% (423/884) [12.96s]\n",
      "Best IoU: 79.52% at epoch 9\n"
     ]
    }
   ],
   "source": [
    "#Train the model\n",
    "train_model(DeepLabV2_model, DeepLabV2_criterion, DeepLabV2_optimizer, cityscapes_train_dataloader, cityscapes_test_dataloader, device, n_epochs=10, lr_schedule=False)\n",
    "\n",
    "#Test latency and FPS\n",
    "#print(test_latency_FPS(DeepLabV2_model, height=4, width=8, device=device))\n",
    "\n",
    "#Test FLOPs and number of parameters\n",
    "#print(test_FLOPs_params(DeepLabV2_model, height=4, width=8, device=device))"
   ]
  },
  {
   "cell_type": "code",
   "execution_count": 8,
   "metadata": {},
   "outputs": [],
   "source": [
    "#Testing Real-Time semantic segmentation network\n",
    "\n",
    "#Set up the model with the pretrained weights\n",
    "BiSeNet_model = BiSeNet(num_classes=19, context_path='resnet18').to(device)\n",
    "\n",
    "#Set up the loss function and the optimizer for BiSeNet\n",
    "BiSeNet_criterion = torch.nn.CrossEntropyLoss(ignore_index=255)\n",
    "BiSeNet_optimizer = torch.optim.SGD(BiSeNet_model.parameters(), lr=2.5e-2, momentum=0.9, weight_decay=1e-4)\n",
    "\n",
    "#Set the manual seeds\n",
    "torch.manual_seed(42)\n",
    "torch.cuda.manual_seed(42)"
   ]
  },
  {
   "cell_type": "code",
   "execution_count": 9,
   "metadata": {},
   "outputs": [
    {
     "name": "stdout",
     "output_type": "stream",
     "text": [
      "Epoch 1/10, IoU: 46.83% (414/884) [7.87s]\n",
      "Epoch 2/10, IoU: 43.55% (385/884) [7.63s]\n",
      "Epoch 3/10, IoU: 42.19% (373/884) [7.80s]\n",
      "Epoch 4/10, IoU: 46.27% (409/884) [8.04s]\n",
      "Epoch 5/10, IoU: 47.29% (418/884) [8.48s]\n",
      "Epoch 6/10, IoU: 43.55% (385/884) [10.79s]\n",
      "Epoch 7/10, IoU: 46.61% (412/884) [10.89s]\n",
      "Epoch 8/10, IoU: 47.29% (418/884) [9.89s]\n",
      "Epoch 9/10, IoU: 45.25% (400/884) [8.82s]\n",
      "Epoch 10/10, IoU: 43.44% (384/884) [8.19s]\n",
      "Best IoU: 47.29% at epoch 5\n"
     ]
    }
   ],
   "source": [
    "#Train the model\n",
    "train_model(BiSeNet_model, BiSeNet_criterion, BiSeNet_optimizer, cityscapes_train_dataloader, cityscapes_test_dataloader, device, n_epochs=10, lr_schedule=True)\n",
    "\n",
    "#Test latency and FPS\n",
    "#print(test_latency_FPS(BiSeNet_model, height=4, width=8, device=device))\n",
    "\n",
    "#Test FLOPs and number of parameters\n",
    "#print(test_FLOPs_params(BiSeNet_model, height=4, width=8, device=device))"
   ]
  }
 ],
 "metadata": {
  "kernelspec": {
   "display_name": "Python 3",
   "language": "python",
   "name": "python3"
  },
  "language_info": {
   "codemirror_mode": {
    "name": "ipython",
    "version": 3
   },
   "file_extension": ".py",
   "mimetype": "text/x-python",
   "name": "python",
   "nbconvert_exporter": "python",
   "pygments_lexer": "ipython3",
   "version": "3.12.0"
  }
 },
 "nbformat": 4,
 "nbformat_minor": 2
}
