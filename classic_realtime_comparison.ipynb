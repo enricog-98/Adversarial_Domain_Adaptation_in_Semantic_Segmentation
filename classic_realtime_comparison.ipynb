{
 "cells": [
  {
   "cell_type": "code",
   "execution_count": 1,
   "metadata": {},
   "outputs": [],
   "source": [
    "#Mounting Google Drive from Google Colab\n",
    "#from google.colab import drive\n",
    "#drive.mount('/content/drive')"
   ]
  },
  {
   "cell_type": "code",
   "execution_count": 2,
   "metadata": {},
   "outputs": [],
   "source": [
    "#Changing the current working directory to the Google Drive\n",
    "#%cd /content/drive/My Drive/MLDL2024_project1-Enrico"
   ]
  },
  {
   "cell_type": "code",
   "execution_count": 3,
   "metadata": {},
   "outputs": [],
   "source": [
    "#!pip install -U fvcore"
   ]
  },
  {
   "cell_type": "code",
   "execution_count": 4,
   "metadata": {},
   "outputs": [],
   "source": [
    "#Importing the necessary libraries\n",
    "import os\n",
    "import torch\n",
    "import numpy as np\n",
    "import torch.optim as optim\n",
    "from torch.utils.data import DataLoader\n",
    "from datasets.cityscapes import CityscapesCustom\n",
    "from models.deeplabv2.deeplabv2 import get_deeplab_v2\n",
    "from models.bisenet.build_bisenet import BiSeNet\n",
    "from train import train_model\n",
    "from utils import test_latency_FPS, test_FLOPs_params, plot_miou_over_epochs"
   ]
  },
  {
   "cell_type": "code",
   "execution_count": 5,
   "metadata": {},
   "outputs": [],
   "source": [
    "#Set device agnostic code\n",
    "device = torch.device(\"cuda\" if torch.cuda.is_available() else \"cpu\")\n",
    "\n",
    "#Set the manual seeds\n",
    "torch.manual_seed(42)\n",
    "if torch.cuda.is_available():\n",
    "    torch.cuda.manual_seed_all(42)\n",
    "\n",
    "#Set training parameters\n",
    "cityscapes_height, cityscapes_width = (16, 32)\n",
    "cityscapes_batch_size = 4\n",
    "\n",
    "n_epochs = 30\n",
    "\n",
    "class_names = [\"road\", \"sidewalk\", \"building\", \"wall\", \"fence\", \"pole\", \"traffic_light\", \"traffic_sign\",\n",
    "                \"vegetation\", \"terrain\", \"sky\", \"person\", \"rider\", \"car\", \"truck\", \"bus\", \"train\",\n",
    "                \"motorcycle\", \"bicycle\"\n",
    "]"
   ]
  },
  {
   "cell_type": "code",
   "execution_count": 6,
   "metadata": {},
   "outputs": [
    {
     "name": "stdout",
     "output_type": "stream",
     "text": [
      "Cityscapes (Train): 1572 images, divided into 393 batches of size 4\n",
      "Cityscapes (Test): 500 images, divided into 125 batches of size 4\n"
     ]
    }
   ],
   "source": [
    "#Create Dataloaders for Cityscapes\n",
    "cityscapes_dir = os.path.dirname(os.getcwd()) + '/Cityscapes/Cityspaces/'\n",
    "\n",
    "cityscapes_train_dataset = CityscapesCustom(cityscapes_dir, 'train', cityscapes_height, cityscapes_width)\n",
    "cityscapes_test_dataset = CityscapesCustom(cityscapes_dir, 'val', cityscapes_height, cityscapes_width)\n",
    "\n",
    "cityscapes_train_dataloader = DataLoader(cityscapes_train_dataset, cityscapes_batch_size, shuffle=True)\n",
    "cityscapes_test_dataloader = DataLoader(cityscapes_test_dataset, cityscapes_batch_size, shuffle=False)\n",
    "\n",
    "print(f'Cityscapes (Train): {len(cityscapes_train_dataset)} images, divided into {len(cityscapes_train_dataloader)} batches of size {cityscapes_train_dataloader.batch_size}')\n",
    "print(f'Cityscapes (Test): {len(cityscapes_test_dataset)} images, divided into {len(cityscapes_test_dataloader)} batches of size {cityscapes_test_dataloader.batch_size}')"
   ]
  },
  {
   "cell_type": "code",
   "execution_count": 7,
   "metadata": {},
   "outputs": [
    {
     "name": "stdout",
     "output_type": "stream",
     "text": [
      "Deeplab pretraining loading...\n"
     ]
    },
    {
     "name": "stderr",
     "output_type": "stream",
     "text": [
      "                                                                    \r"
     ]
    },
    {
     "name": "stdout",
     "output_type": "stream",
     "text": [
      "Epoch 1/30 [0m 15s]\n",
      "Train mIoU: 8.13%, Test mIoU: 7.33%\n",
      "road: 59.19% sidewalk: 0.00% building: 35.09% wall: 0.00% fence: 0.00% pole: 0.00% traffic_light: 0.00% traffic_sign: 0.00% vegetation: 16.13% terrain: 0.00% sky: 8.23% person: 0.00% rider: 0.00% car: 20.63% truck: 0.00% bus: 0.00% train: 0.00% motorcycle: 0.00% bicycle: 0.00% "
     ]
    },
    {
     "name": "stderr",
     "output_type": "stream",
     "text": [
      "                                                                    \r"
     ]
    },
    {
     "name": "stdout",
     "output_type": "stream",
     "text": [
      "Epoch 2/30 [0m 15s]\n",
      "Train mIoU: 10.56%, Test mIoU: 8.88%\n",
      "road: 72.97% sidewalk: 9.44% building: 41.90% wall: 0.00% fence: 0.00% pole: 0.00% traffic_light: 0.00% traffic_sign: 0.00% vegetation: 29.84% terrain: 0.00% sky: 0.00% person: 0.00% rider: 0.00% car: 14.52% truck: 0.00% bus: 0.00% train: 0.00% motorcycle: 0.00% bicycle: 0.00% "
     ]
    },
    {
     "name": "stderr",
     "output_type": "stream",
     "text": [
      "                                                                    \r"
     ]
    },
    {
     "name": "stdout",
     "output_type": "stream",
     "text": [
      "Epoch 3/30 [0m 14s]\n",
      "Train mIoU: 9.50%, Test mIoU: 7.10%\n",
      "road: 81.65% sidewalk: 14.35% building: 36.05% wall: 0.00% fence: 0.00% pole: 0.00% traffic_light: 0.00% traffic_sign: 0.00% vegetation: 2.86% terrain: 0.00% sky: 0.00% person: 0.00% rider: 0.00% car: 0.00% truck: 0.00% bus: 0.00% train: 0.00% motorcycle: 0.00% bicycle: 0.00% "
     ]
    },
    {
     "name": "stderr",
     "output_type": "stream",
     "text": [
      "                                                                    \r"
     ]
    },
    {
     "name": "stdout",
     "output_type": "stream",
     "text": [
      "Epoch 4/30 [0m 15s]\n",
      "Train mIoU: 10.27%, Test mIoU: 7.10%\n",
      "road: 83.16% sidewalk: 11.76% building: 38.78% wall: 0.00% fence: 0.00% pole: 0.00% traffic_light: 0.00% traffic_sign: 0.00% vegetation: 0.00% terrain: 0.00% sky: 0.00% person: 0.00% rider: 0.00% car: 1.21% truck: 0.00% bus: 0.00% train: 0.00% motorcycle: 0.00% bicycle: 0.00% "
     ]
    },
    {
     "name": "stderr",
     "output_type": "stream",
     "text": [
      "                                                                    \r"
     ]
    },
    {
     "name": "stdout",
     "output_type": "stream",
     "text": [
      "Epoch 5/30 [0m 13s]\n",
      "Train mIoU: 10.03%, Test mIoU: 6.50%\n",
      "road: 65.25% sidewalk: 10.43% building: 29.48% wall: 0.00% fence: 0.00% pole: 0.00% traffic_light: 0.00% traffic_sign: 0.00% vegetation: 7.19% terrain: 0.00% sky: 0.00% person: 0.00% rider: 0.00% car: 11.11% truck: 0.00% bus: 0.00% train: 0.00% motorcycle: 0.00% bicycle: 0.00% "
     ]
    },
    {
     "name": "stderr",
     "output_type": "stream",
     "text": [
      "                                                                    \r"
     ]
    },
    {
     "name": "stdout",
     "output_type": "stream",
     "text": [
      "Epoch 6/30 [0m 13s]\n",
      "Train mIoU: 11.56%, Test mIoU: 7.68%\n",
      "road: 83.24% sidewalk: 16.24% building: 39.59% wall: 0.00% fence: 0.00% pole: 0.00% traffic_light: 0.00% traffic_sign: 0.00% vegetation: 0.00% terrain: 0.00% sky: 0.00% person: 0.00% rider: 0.00% car: 6.93% truck: 0.00% bus: 0.00% train: 0.00% motorcycle: 0.00% bicycle: 0.00% "
     ]
    },
    {
     "name": "stderr",
     "output_type": "stream",
     "text": [
      "                                                                    \r"
     ]
    },
    {
     "name": "stdout",
     "output_type": "stream",
     "text": [
      "Epoch 7/30 [0m 13s]\n",
      "Train mIoU: 11.92%, Test mIoU: 9.54%\n",
      "road: 84.06% sidewalk: 17.39% building: 42.11% wall: 0.00% fence: 0.00% pole: 0.00% traffic_light: 0.00% traffic_sign: 0.00% vegetation: 32.69% terrain: 0.00% sky: 1.24% person: 0.00% rider: 0.00% car: 3.75% truck: 0.00% bus: 0.00% train: 0.00% motorcycle: 0.00% bicycle: 0.00% "
     ]
    },
    {
     "name": "stderr",
     "output_type": "stream",
     "text": [
      "                                                                    \r"
     ]
    },
    {
     "name": "stdout",
     "output_type": "stream",
     "text": [
      "Epoch 8/30 [0m 13s]\n",
      "Train mIoU: 10.53%, Test mIoU: 10.55%\n",
      "road: 81.30% sidewalk: 16.16% building: 40.32% wall: 0.00% fence: 0.00% pole: 0.00% traffic_light: 0.00% traffic_sign: 0.00% vegetation: 17.14% terrain: 0.00% sky: 23.53% person: 0.00% rider: 0.00% car: 22.00% truck: 0.00% bus: 0.00% train: 0.00% motorcycle: 0.00% bicycle: 0.00% "
     ]
    },
    {
     "name": "stderr",
     "output_type": "stream",
     "text": [
      "                                                                    \r"
     ]
    },
    {
     "name": "stdout",
     "output_type": "stream",
     "text": [
      "Epoch 9/30 [0m 13s]\n",
      "Train mIoU: 11.43%, Test mIoU: 9.41%\n",
      "road: 78.12% sidewalk: 15.25% building: 40.44% wall: 0.00% fence: 0.00% pole: 0.00% traffic_light: 0.00% traffic_sign: 0.00% vegetation: 0.61% terrain: 0.00% sky: 29.64% person: 0.00% rider: 0.00% car: 14.75% truck: 0.00% bus: 0.00% train: 0.00% motorcycle: 0.00% bicycle: 0.00% "
     ]
    },
    {
     "name": "stderr",
     "output_type": "stream",
     "text": [
      "                                                                     \r"
     ]
    },
    {
     "name": "stdout",
     "output_type": "stream",
     "text": [
      "Epoch 10/30 [0m 13s]\n",
      "Train mIoU: 11.81%, Test mIoU: 13.76%\n",
      "road: 82.07% sidewalk: 22.59% building: 49.62% wall: 0.00% fence: 0.00% pole: 0.00% traffic_light: 0.00% traffic_sign: 0.00% vegetation: 45.69% terrain: 0.00% sky: 45.88% person: 0.00% rider: 0.00% car: 15.55% truck: 0.00% bus: 0.00% train: 0.00% motorcycle: 0.00% bicycle: 0.00% "
     ]
    },
    {
     "name": "stderr",
     "output_type": "stream",
     "text": [
      "                                                                     \r"
     ]
    },
    {
     "name": "stdout",
     "output_type": "stream",
     "text": [
      "Epoch 11/30 [0m 13s]\n",
      "Train mIoU: 12.80%, Test mIoU: 11.49%\n",
      "road: 81.08% sidewalk: 14.73% building: 47.83% wall: 0.00% fence: 0.00% pole: 0.00% traffic_light: 0.00% traffic_sign: 0.00% vegetation: 37.81% terrain: 0.00% sky: 17.83% person: 0.00% rider: 0.00% car: 18.99% truck: 0.00% bus: 0.00% train: 0.00% motorcycle: 0.00% bicycle: 0.00% "
     ]
    },
    {
     "name": "stderr",
     "output_type": "stream",
     "text": [
      "                                                                     \r"
     ]
    },
    {
     "name": "stdout",
     "output_type": "stream",
     "text": [
      "Epoch 12/30 [0m 16s]\n",
      "Train mIoU: 12.14%, Test mIoU: 13.32%\n",
      "road: 82.83% sidewalk: 11.40% building: 49.52% wall: 0.00% fence: 0.00% pole: 0.00% traffic_light: 0.00% traffic_sign: 0.00% vegetation: 40.97% terrain: 0.00% sky: 45.43% person: 0.00% rider: 0.00% car: 22.98% truck: 0.00% bus: 0.00% train: 0.00% motorcycle: 0.00% bicycle: 0.00% "
     ]
    },
    {
     "name": "stderr",
     "output_type": "stream",
     "text": [
      "                                                                     \r"
     ]
    },
    {
     "name": "stdout",
     "output_type": "stream",
     "text": [
      "Epoch 13/30 [0m 16s]\n",
      "Train mIoU: 12.90%, Test mIoU: 14.50%\n",
      "road: 82.90% sidewalk: 15.03% building: 59.25% wall: 0.00% fence: 0.00% pole: 0.00% traffic_light: 0.00% traffic_sign: 0.00% vegetation: 58.86% terrain: 0.00% sky: 35.54% person: 0.00% rider: 0.00% car: 23.99% truck: 0.00% bus: 0.00% train: 0.00% motorcycle: 0.00% bicycle: 0.00% "
     ]
    },
    {
     "name": "stderr",
     "output_type": "stream",
     "text": [
      "                                                                     \r"
     ]
    },
    {
     "name": "stdout",
     "output_type": "stream",
     "text": [
      "Epoch 14/30 [0m 15s]\n",
      "Train mIoU: 13.17%, Test mIoU: 14.68%\n",
      "road: 85.04% sidewalk: 14.29% building: 60.20% wall: 0.00% fence: 0.00% pole: 0.00% traffic_light: 0.00% traffic_sign: 0.00% vegetation: 51.75% terrain: 0.00% sky: 44.65% person: 0.00% rider: 0.00% car: 23.04% truck: 0.00% bus: 0.00% train: 0.00% motorcycle: 0.00% bicycle: 0.00% "
     ]
    },
    {
     "name": "stderr",
     "output_type": "stream",
     "text": [
      "                                                                     \r"
     ]
    },
    {
     "name": "stdout",
     "output_type": "stream",
     "text": [
      "Epoch 15/30 [0m 15s]\n",
      "Train mIoU: 12.82%, Test mIoU: 14.48%\n",
      "road: 84.40% sidewalk: 12.84% building: 55.42% wall: 0.00% fence: 5.71% pole: 0.00% traffic_light: 0.00% traffic_sign: 0.00% vegetation: 51.78% terrain: 0.00% sky: 33.81% person: 0.00% rider: 0.00% car: 31.14% truck: 0.00% bus: 0.00% train: 0.00% motorcycle: 0.00% bicycle: 0.00% "
     ]
    },
    {
     "name": "stderr",
     "output_type": "stream",
     "text": [
      "                                                                     \r"
     ]
    },
    {
     "name": "stdout",
     "output_type": "stream",
     "text": [
      "Epoch 16/30 [0m 14s]\n",
      "Train mIoU: 13.42%, Test mIoU: 14.81%\n",
      "road: 83.73% sidewalk: 18.67% building: 55.81% wall: 0.00% fence: 0.00% pole: 0.00% traffic_light: 0.00% traffic_sign: 0.00% vegetation: 57.66% terrain: 0.00% sky: 38.82% person: 1.61% rider: 0.00% car: 25.04% truck: 0.00% bus: 0.00% train: 0.00% motorcycle: 0.00% bicycle: 0.00% "
     ]
    },
    {
     "name": "stderr",
     "output_type": "stream",
     "text": [
      "                                                                     \r"
     ]
    },
    {
     "name": "stdout",
     "output_type": "stream",
     "text": [
      "Epoch 17/30 [0m 14s]\n",
      "Train mIoU: 12.25%, Test mIoU: 13.32%\n",
      "road: 81.06% sidewalk: 18.30% building: 44.69% wall: 0.00% fence: 0.00% pole: 0.00% traffic_light: 0.00% traffic_sign: 0.00% vegetation: 47.52% terrain: 0.00% sky: 34.91% person: 5.26% rider: 0.00% car: 21.35% truck: 0.00% bus: 0.00% train: 0.00% motorcycle: 0.00% bicycle: 0.00% "
     ]
    },
    {
     "name": "stderr",
     "output_type": "stream",
     "text": [
      "                                                                     \r"
     ]
    },
    {
     "name": "stdout",
     "output_type": "stream",
     "text": [
      "Epoch 18/30 [0m 14s]\n",
      "Train mIoU: 13.41%, Test mIoU: 14.98%\n",
      "road: 82.37% sidewalk: 10.65% building: 55.31% wall: 0.00% fence: 0.00% pole: 0.00% traffic_light: 0.00% traffic_sign: 0.00% vegetation: 52.36% terrain: 0.00% sky: 45.48% person: 9.52% rider: 0.00% car: 28.90% truck: 0.00% bus: 0.00% train: 0.00% motorcycle: 0.00% bicycle: 0.00% "
     ]
    },
    {
     "name": "stderr",
     "output_type": "stream",
     "text": [
      "                                                                     \r"
     ]
    },
    {
     "name": "stdout",
     "output_type": "stream",
     "text": [
      "Epoch 19/30 [0m 15s]\n",
      "Train mIoU: 15.37%, Test mIoU: 15.28%\n",
      "road: 83.65% sidewalk: 15.04% building: 61.51% wall: 0.00% fence: 0.00% pole: 0.00% traffic_light: 0.00% traffic_sign: 0.00% vegetation: 57.66% terrain: 0.00% sky: 44.51% person: 0.00% rider: 0.00% car: 27.90% truck: 0.00% bus: 0.00% train: 0.00% motorcycle: 0.00% bicycle: 0.00% "
     ]
    },
    {
     "name": "stderr",
     "output_type": "stream",
     "text": [
      "                                                                     \r"
     ]
    },
    {
     "name": "stdout",
     "output_type": "stream",
     "text": [
      "Epoch 20/30 [0m 14s]\n",
      "Train mIoU: 13.89%, Test mIoU: 15.51%\n",
      "road: 81.46% sidewalk: 17.98% building: 61.77% wall: 0.00% fence: 0.00% pole: 0.00% traffic_light: 0.00% traffic_sign: 0.00% vegetation: 59.79% terrain: 0.00% sky: 42.28% person: 0.00% rider: 0.00% car: 31.49% truck: 0.00% bus: 0.00% train: 0.00% motorcycle: 0.00% bicycle: 0.00% "
     ]
    },
    {
     "name": "stderr",
     "output_type": "stream",
     "text": [
      "                                                                     \r"
     ]
    },
    {
     "name": "stdout",
     "output_type": "stream",
     "text": [
      "Epoch 21/30 [0m 14s]\n",
      "Train mIoU: 13.75%, Test mIoU: 15.37%\n",
      "road: 82.47% sidewalk: 16.73% building: 61.79% wall: 0.00% fence: 0.00% pole: 0.00% traffic_light: 0.00% traffic_sign: 0.00% vegetation: 58.84% terrain: 0.00% sky: 46.01% person: 0.00% rider: 0.00% car: 26.25% truck: 0.00% bus: 0.00% train: 0.00% motorcycle: 0.00% bicycle: 0.00% "
     ]
    },
    {
     "name": "stderr",
     "output_type": "stream",
     "text": [
      "                                                                     \r"
     ]
    },
    {
     "name": "stdout",
     "output_type": "stream",
     "text": [
      "Epoch 22/30 [0m 14s]\n",
      "Train mIoU: 13.90%, Test mIoU: 14.89%\n",
      "road: 82.78% sidewalk: 16.08% building: 59.20% wall: 0.00% fence: 0.00% pole: 0.00% traffic_light: 0.00% traffic_sign: 0.00% vegetation: 52.45% terrain: 0.00% sky: 42.03% person: 0.00% rider: 0.00% car: 30.41% truck: 0.00% bus: 0.00% train: 0.00% motorcycle: 0.00% bicycle: 0.00% "
     ]
    },
    {
     "name": "stderr",
     "output_type": "stream",
     "text": [
      "                                                                     \r"
     ]
    },
    {
     "name": "stdout",
     "output_type": "stream",
     "text": [
      "Epoch 23/30 [0m 14s]\n",
      "Train mIoU: 13.57%, Test mIoU: 14.49%\n",
      "road: 83.41% sidewalk: 19.23% building: 57.89% wall: 0.00% fence: 0.00% pole: 0.00% traffic_light: 0.00% traffic_sign: 0.00% vegetation: 59.37% terrain: 0.00% sky: 32.58% person: 0.00% rider: 0.00% car: 22.80% truck: 0.00% bus: 0.00% train: 0.00% motorcycle: 0.00% bicycle: 0.00% "
     ]
    },
    {
     "name": "stderr",
     "output_type": "stream",
     "text": [
      "                                                                     \r"
     ]
    },
    {
     "name": "stdout",
     "output_type": "stream",
     "text": [
      "Epoch 24/30 [0m 14s]\n",
      "Train mIoU: 12.56%, Test mIoU: 14.29%\n",
      "road: 84.00% sidewalk: 18.15% building: 51.28% wall: 0.00% fence: 0.00% pole: 0.00% traffic_light: 0.00% traffic_sign: 0.00% vegetation: 60.38% terrain: 0.00% sky: 40.39% person: 0.00% rider: 0.00% car: 17.38% truck: 0.00% bus: 0.00% train: 0.00% motorcycle: 0.00% bicycle: 0.00% "
     ]
    },
    {
     "name": "stderr",
     "output_type": "stream",
     "text": [
      "                                                                     \r"
     ]
    },
    {
     "name": "stdout",
     "output_type": "stream",
     "text": [
      "Epoch 25/30 [0m 14s]\n",
      "Train mIoU: 15.03%, Test mIoU: 13.67%\n",
      "road: 82.96% sidewalk: 20.22% building: 52.98% wall: 0.00% fence: 0.00% pole: 0.00% traffic_light: 0.00% traffic_sign: 0.00% vegetation: 45.61% terrain: 0.00% sky: 36.00% person: 0.00% rider: 0.00% car: 22.04% truck: 0.00% bus: 0.00% train: 0.00% motorcycle: 0.00% bicycle: 0.00% "
     ]
    },
    {
     "name": "stderr",
     "output_type": "stream",
     "text": [
      "                                                                     \r"
     ]
    },
    {
     "name": "stdout",
     "output_type": "stream",
     "text": [
      "Epoch 26/30 [0m 14s]\n",
      "Train mIoU: 15.41%, Test mIoU: 14.23%\n",
      "road: 79.86% sidewalk: 7.03% building: 59.36% wall: 0.00% fence: 0.00% pole: 0.00% traffic_light: 0.00% traffic_sign: 0.00% vegetation: 50.41% terrain: 0.00% sky: 46.94% person: 0.00% rider: 0.00% car: 26.75% truck: 0.00% bus: 0.00% train: 0.00% motorcycle: 0.00% bicycle: 0.00% "
     ]
    },
    {
     "name": "stderr",
     "output_type": "stream",
     "text": [
      "                                                                     \r"
     ]
    },
    {
     "name": "stdout",
     "output_type": "stream",
     "text": [
      "Epoch 27/30 [0m 14s]\n",
      "Train mIoU: 14.28%, Test mIoU: 14.37%\n",
      "road: 77.81% sidewalk: 18.73% building: 56.93% wall: 0.00% fence: 0.00% pole: 0.00% traffic_light: 0.00% traffic_sign: 0.00% vegetation: 48.84% terrain: 0.00% sky: 44.83% person: 0.00% rider: 0.00% car: 25.96% truck: 0.00% bus: 0.00% train: 0.00% motorcycle: 0.00% bicycle: 0.00% "
     ]
    },
    {
     "name": "stderr",
     "output_type": "stream",
     "text": [
      "                                                                     \r"
     ]
    },
    {
     "name": "stdout",
     "output_type": "stream",
     "text": [
      "Epoch 28/30 [0m 14s]\n",
      "Train mIoU: 15.24%, Test mIoU: 15.52%\n",
      "road: 82.62% sidewalk: 18.08% building: 58.23% wall: 0.00% fence: 0.00% pole: 0.00% traffic_light: 0.00% traffic_sign: 0.00% vegetation: 58.09% terrain: 0.00% sky: 46.65% person: 0.00% rider: 0.00% car: 31.17% truck: 0.00% bus: 0.00% train: 0.00% motorcycle: 0.00% bicycle: 0.00% "
     ]
    },
    {
     "name": "stderr",
     "output_type": "stream",
     "text": [
      "                                                                     \r"
     ]
    },
    {
     "name": "stdout",
     "output_type": "stream",
     "text": [
      "Epoch 29/30 [0m 13s]\n",
      "Train mIoU: 15.02%, Test mIoU: 15.82%\n",
      "road: 84.20% sidewalk: 18.72% building: 58.56% wall: 0.00% fence: 0.00% pole: 0.00% traffic_light: 0.00% traffic_sign: 0.00% vegetation: 59.15% terrain: 5.08% sky: 44.54% person: 0.00% rider: 0.00% car: 30.23% truck: 0.00% bus: 0.00% train: 0.00% motorcycle: 0.00% bicycle: 0.00% "
     ]
    },
    {
     "name": "stderr",
     "output_type": "stream",
     "text": [
      "                                                                     \r"
     ]
    },
    {
     "name": "stdout",
     "output_type": "stream",
     "text": [
      "Epoch 30/30 [0m 13s]\n",
      "Train mIoU: 13.75%, Test mIoU: 14.57%\n",
      "road: 83.42% sidewalk: 23.22% building: 54.06% wall: 0.00% fence: 0.00% pole: 0.00% traffic_light: 0.00% traffic_sign: 0.00% vegetation: 47.98% terrain: 0.00% sky: 43.93% person: 0.00% rider: 0.00% car: 24.16% truck: 0.00% bus: 0.00% train: 0.00% motorcycle: 0.00% bicycle: 0.00% \n",
      "Best mIoU: 15.82% at epoch 29\n",
      "road: 84.20% sidewalk: 18.72% building: 58.56% wall: 0.00% fence: 0.00% pole: 0.00% traffic_light: 0.00% traffic_sign: 0.00% vegetation: 59.15% terrain: 5.08% sky: 44.54% person: 0.00% rider: 0.00% car: 30.23% truck: 0.00% bus: 0.00% train: 0.00% motorcycle: 0.00% bicycle: 0.00% "
     ]
    },
    {
     "data": {
      "image/png": "[encoded data removed]",
      "text/plain": [
       "<Figure size 640x480 with 1 Axes>"
      ]
     },
     "metadata": {},
     "output_type": "display_data"
    }
   ],
   "source": [
    "#Testing Classic semantic segmentation network\n",
    "\n",
    "#Set up the model with the pretrained weights\n",
    "DeepLabV2_model = get_deeplab_v2().to(device)\n",
    "\n",
    "#Set up the loss function and the optimizer\n",
    "DeepLabV2_criterion = torch.nn.CrossEntropyLoss(ignore_index=255)\n",
    "DeepLabV2_optimizer = optim.Adam(DeepLabV2_model.parameters(), lr=1e-3)\n",
    "\n",
    "#Test latency and FPS\n",
    "#print(test_latency_FPS(DeepLabV2_model, device, cityscapes_height, cityscapes_width))\n",
    "\n",
    "#Test FLOPs and number of parameters\n",
    "#print(test_FLOPs_params(DeepLabV2_model, device, cityscapes_height, cityscapes_width))\n",
    "\n",
    "#Train the model\n",
    "all_train_miou, all_test_miou, best_epoch = train_model(DeepLabV2_model, DeepLabV2_criterion, DeepLabV2_optimizer,\n",
    "            cityscapes_train_dataloader, cityscapes_test_dataloader, class_names, device, n_epochs,\n",
    "            lr_schedule=False, model_name='DeepLabV2')\n",
    "\n",
    "plot_miou_over_epochs(all_train_miou, all_test_miou, best_epoch)"
   ]
  },
  {
   "cell_type": "code",
   "execution_count": 8,
   "metadata": {},
   "outputs": [
    {
     "name": "stderr",
     "output_type": "stream",
     "text": [
      "                                                                    \r"
     ]
    },
    {
     "name": "stdout",
     "output_type": "stream",
     "text": [
      "Epoch 1/30 [0m 8s]\n",
      "Train mIoU: 6.22%, Test mIoU: 5.13%\n",
      "road: 83.39% sidewalk: 0.00% building: 0.00% wall: 0.00% fence: 1.65% pole: 0.00% traffic_light: 0.00% traffic_sign: 0.00% vegetation: 0.00% terrain: 0.00% sky: 12.45% person: 0.00% rider: 0.00% car: 0.00% truck: 0.00% bus: 0.00% train: 0.00% motorcycle: 0.00% bicycle: 0.00% "
     ]
    },
    {
     "name": "stderr",
     "output_type": "stream",
     "text": [
      "                                                                    \r"
     ]
    },
    {
     "name": "stdout",
     "output_type": "stream",
     "text": [
      "Epoch 2/30 [0m 8s]\n",
      "Train mIoU: 6.51%, Test mIoU: 5.35%\n",
      "road: 72.42% sidewalk: 0.00% building: 0.00% wall: 0.00% fence: 0.00% pole: 0.00% traffic_light: 0.37% traffic_sign: 0.00% vegetation: 0.00% terrain: 0.00% sky: 0.00% person: 0.00% rider: 0.00% car: 28.94% truck: 0.00% bus: 0.00% train: 0.00% motorcycle: 0.00% bicycle: 0.00% "
     ]
    },
    {
     "name": "stderr",
     "output_type": "stream",
     "text": [
      "                                                                    \r"
     ]
    },
    {
     "name": "stdout",
     "output_type": "stream",
     "text": [
      "Epoch 3/30 [0m 8s]\n",
      "Train mIoU: 7.16%, Test mIoU: 6.48%\n",
      "road: 72.39% sidewalk: 0.00% building: 27.69% wall: 0.00% fence: 0.00% pole: 0.00% traffic_light: 0.00% traffic_sign: 0.00% vegetation: 1.50% terrain: 0.00% sky: 5.75% person: 0.00% rider: 0.00% car: 15.84% truck: 0.00% bus: 0.00% train: 0.00% motorcycle: 0.00% bicycle: 0.00% "
     ]
    },
    {
     "name": "stderr",
     "output_type": "stream",
     "text": [
      "                                                                    \r"
     ]
    },
    {
     "name": "stdout",
     "output_type": "stream",
     "text": [
      "Epoch 4/30 [0m 8s]\n",
      "Train mIoU: 6.21%, Test mIoU: 7.46%\n",
      "road: 78.62% sidewalk: 3.72% building: 39.28% wall: 0.00% fence: 0.00% pole: 0.00% traffic_light: 0.00% traffic_sign: 0.00% vegetation: 0.00% terrain: 0.00% sky: 7.34% person: 0.00% rider: 0.00% car: 12.84% truck: 0.00% bus: 0.00% train: 0.00% motorcycle: 0.00% bicycle: 0.00% "
     ]
    },
    {
     "name": "stderr",
     "output_type": "stream",
     "text": [
      "                                                                    \r"
     ]
    },
    {
     "name": "stdout",
     "output_type": "stream",
     "text": [
      "Epoch 5/30 [0m 9s]\n",
      "Train mIoU: 6.67%, Test mIoU: 7.34%\n",
      "road: 80.04% sidewalk: 2.66% building: 23.91% wall: 0.00% fence: 0.00% pole: 0.00% traffic_light: 0.00% traffic_sign: 0.00% vegetation: 0.00% terrain: 0.00% sky: 11.59% person: 0.00% rider: 0.00% car: 21.31% truck: 0.00% bus: 0.00% train: 0.00% motorcycle: 0.00% bicycle: 0.00% "
     ]
    },
    {
     "name": "stderr",
     "output_type": "stream",
     "text": [
      "                                                                    \r"
     ]
    },
    {
     "name": "stdout",
     "output_type": "stream",
     "text": [
      "Epoch 6/30 [0m 9s]\n",
      "Train mIoU: 6.59%, Test mIoU: 7.18%\n",
      "road: 81.99% sidewalk: 2.55% building: 37.82% wall: 0.00% fence: 0.00% pole: 0.00% traffic_light: 0.00% traffic_sign: 0.00% vegetation: 0.00% terrain: 0.00% sky: 0.00% person: 0.00% rider: 0.00% car: 14.13% truck: 0.00% bus: 0.00% train: 0.00% motorcycle: 0.00% bicycle: 0.00% "
     ]
    },
    {
     "name": "stderr",
     "output_type": "stream",
     "text": [
      "                                                                    \r"
     ]
    },
    {
     "name": "stdout",
     "output_type": "stream",
     "text": [
      "Epoch 7/30 [0m 9s]\n",
      "Train mIoU: 7.18%, Test mIoU: 6.20%\n",
      "road: 83.17% sidewalk: 0.00% building: 3.48% wall: 0.00% fence: 0.00% pole: 0.00% traffic_light: 0.00% traffic_sign: 0.00% vegetation: 30.97% terrain: 0.00% sky: 0.00% person: 0.00% rider: 0.00% car: 0.18% truck: 0.00% bus: 0.00% train: 0.00% motorcycle: 0.00% bicycle: 0.00% "
     ]
    },
    {
     "name": "stderr",
     "output_type": "stream",
     "text": [
      "                                                                    \r"
     ]
    },
    {
     "name": "stdout",
     "output_type": "stream",
     "text": [
      "Epoch 8/30 [0m 8s]\n",
      "Train mIoU: 7.31%, Test mIoU: 6.69%\n",
      "road: 83.71% sidewalk: 6.48% building: 36.41% wall: 0.00% fence: 0.00% pole: 0.00% traffic_light: 0.00% traffic_sign: 0.00% vegetation: 0.00% terrain: 0.00% sky: 0.00% person: 0.00% rider: 0.00% car: 0.55% truck: 0.00% bus: 0.00% train: 0.00% motorcycle: 0.00% bicycle: 0.00% "
     ]
    },
    {
     "name": "stderr",
     "output_type": "stream",
     "text": [
      "                                                                    \r"
     ]
    },
    {
     "name": "stdout",
     "output_type": "stream",
     "text": [
      "Epoch 9/30 [0m 8s]\n",
      "Train mIoU: 6.91%, Test mIoU: 6.41%\n",
      "road: 82.49% sidewalk: 1.69% building: 37.64% wall: 0.00% fence: 0.00% pole: 0.00% traffic_light: 0.00% traffic_sign: 0.00% vegetation: 0.00% terrain: 0.00% sky: 0.00% person: 0.00% rider: 0.00% car: 0.00% truck: 0.00% bus: 0.00% train: 0.00% motorcycle: 0.00% bicycle: 0.00% "
     ]
    },
    {
     "name": "stderr",
     "output_type": "stream",
     "text": [
      "                                                                     \r"
     ]
    },
    {
     "name": "stdout",
     "output_type": "stream",
     "text": [
      "Epoch 10/30 [0m 8s]\n",
      "Train mIoU: 7.61%, Test mIoU: 5.94%\n",
      "road: 80.51% sidewalk: 0.00% building: 1.19% wall: 0.00% fence: 0.00% pole: 0.00% traffic_light: 0.00% traffic_sign: 0.00% vegetation: 30.61% terrain: 0.00% sky: 0.00% person: 0.00% rider: 0.00% car: 0.54% truck: 0.00% bus: 0.00% train: 0.00% motorcycle: 0.00% bicycle: 0.00% "
     ]
    },
    {
     "name": "stderr",
     "output_type": "stream",
     "text": [
      "                                                                     \r"
     ]
    },
    {
     "name": "stdout",
     "output_type": "stream",
     "text": [
      "Epoch 11/30 [0m 8s]\n",
      "Train mIoU: 7.17%, Test mIoU: 6.40%\n",
      "road: 81.99% sidewalk: 2.22% building: 37.35% wall: 0.00% fence: 0.00% pole: 0.00% traffic_light: 0.00% traffic_sign: 0.00% vegetation: 0.00% terrain: 0.00% sky: 0.00% person: 0.00% rider: 0.00% car: 0.00% truck: 0.00% bus: 0.00% train: 0.00% motorcycle: 0.00% bicycle: 0.00% "
     ]
    },
    {
     "name": "stderr",
     "output_type": "stream",
     "text": [
      "                                                                     \r"
     ]
    },
    {
     "name": "stdout",
     "output_type": "stream",
     "text": [
      "Epoch 12/30 [0m 7s]\n",
      "Train mIoU: 6.99%, Test mIoU: 7.18%\n",
      "road: 82.69% sidewalk: 9.76% building: 37.69% wall: 0.00% fence: 0.00% pole: 0.00% traffic_light: 0.00% traffic_sign: 0.00% vegetation: 0.00% terrain: 0.00% sky: 0.00% person: 0.00% rider: 0.00% car: 6.37% truck: 0.00% bus: 0.00% train: 0.00% motorcycle: 0.00% bicycle: 0.00% "
     ]
    },
    {
     "name": "stderr",
     "output_type": "stream",
     "text": [
      "                                                                     \r"
     ]
    },
    {
     "name": "stdout",
     "output_type": "stream",
     "text": [
      "Epoch 13/30 [0m 7s]\n",
      "Train mIoU: 7.41%, Test mIoU: 7.15%\n",
      "road: 83.09% sidewalk: 8.61% building: 36.84% wall: 0.00% fence: 0.00% pole: 0.00% traffic_light: 0.00% traffic_sign: 0.00% vegetation: 0.00% terrain: 0.00% sky: 0.00% person: 0.00% rider: 0.00% car: 7.29% truck: 0.00% bus: 0.00% train: 0.00% motorcycle: 0.00% bicycle: 0.00% "
     ]
    },
    {
     "name": "stderr",
     "output_type": "stream",
     "text": [
      "                                                                     \r"
     ]
    },
    {
     "name": "stdout",
     "output_type": "stream",
     "text": [
      "Epoch 14/30 [0m 8s]\n",
      "Train mIoU: 7.25%, Test mIoU: 7.27%\n",
      "road: 83.55% sidewalk: 6.60% building: 37.50% wall: 0.00% fence: 0.00% pole: 0.00% traffic_light: 0.00% traffic_sign: 0.00% vegetation: 0.00% terrain: 0.00% sky: 8.16% person: 0.00% rider: 0.00% car: 2.24% truck: 0.00% bus: 0.00% train: 0.00% motorcycle: 0.00% bicycle: 0.00% "
     ]
    },
    {
     "name": "stderr",
     "output_type": "stream",
     "text": [
      "                                                                     \r"
     ]
    },
    {
     "name": "stdout",
     "output_type": "stream",
     "text": [
      "Epoch 15/30 [0m 7s]\n",
      "Train mIoU: 7.42%, Test mIoU: 7.32%\n",
      "road: 83.43% sidewalk: 5.95% building: 35.84% wall: 0.00% fence: 0.00% pole: 0.00% traffic_light: 0.00% traffic_sign: 0.00% vegetation: 0.00% terrain: 0.00% sky: 10.80% person: 0.00% rider: 0.00% car: 3.04% truck: 0.00% bus: 0.00% train: 0.00% motorcycle: 0.00% bicycle: 0.00% "
     ]
    },
    {
     "name": "stderr",
     "output_type": "stream",
     "text": [
      "                                                                     \r"
     ]
    },
    {
     "name": "stdout",
     "output_type": "stream",
     "text": [
      "Epoch 16/30 [0m 8s]\n",
      "Train mIoU: 7.14%, Test mIoU: 7.14%\n",
      "road: 83.63% sidewalk: 9.21% building: 37.51% wall: 0.00% fence: 0.00% pole: 0.00% traffic_light: 0.00% traffic_sign: 0.00% vegetation: 0.00% terrain: 0.00% sky: 0.00% person: 0.00% rider: 0.00% car: 5.34% truck: 0.00% bus: 0.00% train: 0.00% motorcycle: 0.00% bicycle: 0.00% "
     ]
    },
    {
     "name": "stderr",
     "output_type": "stream",
     "text": [
      "                                                                     \r"
     ]
    },
    {
     "name": "stdout",
     "output_type": "stream",
     "text": [
      "Epoch 17/30 [0m 8s]\n",
      "Train mIoU: 7.15%, Test mIoU: 8.63%\n",
      "road: 83.63% sidewalk: 10.65% building: 35.45% wall: 0.00% fence: 0.00% pole: 0.00% traffic_light: 0.00% traffic_sign: 0.00% vegetation: 4.40% terrain: 0.00% sky: 10.44% person: 0.00% rider: 0.00% car: 19.43% truck: 0.00% bus: 0.00% train: 0.00% motorcycle: 0.00% bicycle: 0.00% "
     ]
    },
    {
     "name": "stderr",
     "output_type": "stream",
     "text": [
      "                                                                     \r"
     ]
    },
    {
     "name": "stdout",
     "output_type": "stream",
     "text": [
      "Epoch 18/30 [0m 8s]\n",
      "Train mIoU: 8.52%, Test mIoU: 8.55%\n",
      "road: 83.90% sidewalk: 11.25% building: 37.38% wall: 0.00% fence: 0.00% pole: 0.00% traffic_light: 0.00% traffic_sign: 0.00% vegetation: 0.00% terrain: 0.00% sky: 8.22% person: 0.00% rider: 0.00% car: 21.74% truck: 0.00% bus: 0.00% train: 0.00% motorcycle: 0.00% bicycle: 0.00% "
     ]
    },
    {
     "name": "stderr",
     "output_type": "stream",
     "text": [
      "                                                                     \r"
     ]
    },
    {
     "name": "stdout",
     "output_type": "stream",
     "text": [
      "Epoch 19/30 [0m 8s]\n",
      "Train mIoU: 7.41%, Test mIoU: 7.28%\n",
      "road: 83.89% sidewalk: 11.39% building: 38.03% wall: 0.00% fence: 0.00% pole: 0.00% traffic_light: 0.00% traffic_sign: 0.00% vegetation: 0.00% terrain: 0.00% sky: 0.00% person: 0.00% rider: 0.00% car: 4.98% truck: 0.00% bus: 0.00% train: 0.00% motorcycle: 0.00% bicycle: 0.00% "
     ]
    },
    {
     "name": "stderr",
     "output_type": "stream",
     "text": [
      "                                                                     \r"
     ]
    },
    {
     "name": "stdout",
     "output_type": "stream",
     "text": [
      "Epoch 20/30 [0m 8s]\n",
      "Train mIoU: 8.39%, Test mIoU: 7.25%\n",
      "road: 82.64% sidewalk: 5.41% building: 34.63% wall: 0.00% fence: 0.00% pole: 0.00% traffic_light: 0.00% traffic_sign: 0.00% vegetation: 0.00% terrain: 0.00% sky: 6.67% person: 0.00% rider: 0.00% car: 8.50% truck: 0.00% bus: 0.00% train: 0.00% motorcycle: 0.00% bicycle: 0.00% "
     ]
    },
    {
     "name": "stderr",
     "output_type": "stream",
     "text": [
      "                                                                     \r"
     ]
    },
    {
     "name": "stdout",
     "output_type": "stream",
     "text": [
      "Epoch 21/30 [0m 8s]\n",
      "Train mIoU: 7.07%, Test mIoU: 8.15%\n",
      "road: 83.47% sidewalk: 15.86% building: 36.44% wall: 0.00% fence: 0.00% pole: 0.00% traffic_light: 0.00% traffic_sign: 0.00% vegetation: 1.74% terrain: 0.00% sky: 7.45% person: 0.00% rider: 0.00% car: 9.97% truck: 0.00% bus: 0.00% train: 0.00% motorcycle: 0.00% bicycle: 0.00% "
     ]
    },
    {
     "name": "stderr",
     "output_type": "stream",
     "text": [
      "                                                                     \r"
     ]
    },
    {
     "name": "stdout",
     "output_type": "stream",
     "text": [
      "Epoch 22/30 [0m 7s]\n",
      "Train mIoU: 8.00%, Test mIoU: 10.14%\n",
      "road: 83.36% sidewalk: 12.85% building: 35.40% wall: 0.00% fence: 0.00% pole: 0.00% traffic_light: 0.00% traffic_sign: 0.00% vegetation: 35.49% terrain: 0.00% sky: 9.11% person: 0.00% rider: 0.00% car: 16.37% truck: 0.00% bus: 0.00% train: 0.00% motorcycle: 0.00% bicycle: 0.00% "
     ]
    },
    {
     "name": "stderr",
     "output_type": "stream",
     "text": [
      "                                                                     \r"
     ]
    },
    {
     "name": "stdout",
     "output_type": "stream",
     "text": [
      "Epoch 23/30 [0m 7s]\n",
      "Train mIoU: 9.02%, Test mIoU: 8.11%\n",
      "road: 83.63% sidewalk: 12.36% building: 37.89% wall: 0.00% fence: 0.00% pole: 0.00% traffic_light: 0.00% traffic_sign: 0.00% vegetation: 0.00% terrain: 0.00% sky: 8.96% person: 0.00% rider: 0.00% car: 11.33% truck: 0.00% bus: 0.00% train: 0.00% motorcycle: 0.00% bicycle: 0.00% "
     ]
    },
    {
     "name": "stderr",
     "output_type": "stream",
     "text": [
      "                                                                     \r"
     ]
    },
    {
     "name": "stdout",
     "output_type": "stream",
     "text": [
      "Epoch 24/30 [0m 8s]\n",
      "Train mIoU: 8.07%, Test mIoU: 7.97%\n",
      "road: 82.95% sidewalk: 19.28% building: 36.88% wall: 0.00% fence: 0.00% pole: 0.00% traffic_light: 0.00% traffic_sign: 0.00% vegetation: 0.00% terrain: 0.00% sky: 0.00% person: 0.00% rider: 0.00% car: 12.34% truck: 0.00% bus: 0.00% train: 0.00% motorcycle: 0.00% bicycle: 0.00% "
     ]
    },
    {
     "name": "stderr",
     "output_type": "stream",
     "text": [
      "                                                                     \r"
     ]
    },
    {
     "name": "stdout",
     "output_type": "stream",
     "text": [
      "Epoch 25/30 [0m 8s]\n",
      "Train mIoU: 7.28%, Test mIoU: 7.68%\n",
      "road: 83.92% sidewalk: 18.83% building: 36.83% wall: 0.00% fence: 0.00% pole: 0.00% traffic_light: 0.00% traffic_sign: 0.00% vegetation: 0.00% terrain: 0.00% sky: 0.00% person: 0.00% rider: 0.00% car: 6.34% truck: 0.00% bus: 0.00% train: 0.00% motorcycle: 0.00% bicycle: 0.00% "
     ]
    },
    {
     "name": "stderr",
     "output_type": "stream",
     "text": [
      "                                                                     \r"
     ]
    },
    {
     "name": "stdout",
     "output_type": "stream",
     "text": [
      "Epoch 26/30 [0m 7s]\n",
      "Train mIoU: 7.11%, Test mIoU: 8.64%\n",
      "road: 82.28% sidewalk: 17.06% building: 38.67% wall: 0.00% fence: 2.74% pole: 0.00% traffic_light: 0.00% traffic_sign: 0.00% vegetation: 0.00% terrain: 0.00% sky: 17.76% person: 0.00% rider: 0.00% car: 5.69% truck: 0.00% bus: 0.00% train: 0.00% motorcycle: 0.00% bicycle: 0.00% "
     ]
    },
    {
     "name": "stderr",
     "output_type": "stream",
     "text": [
      "                                                                     \r"
     ]
    },
    {
     "name": "stdout",
     "output_type": "stream",
     "text": [
      "Epoch 27/30 [0m 8s]\n",
      "Train mIoU: 7.80%, Test mIoU: 8.47%\n",
      "road: 82.87% sidewalk: 19.34% building: 38.19% wall: 0.00% fence: 5.71% pole: 0.00% traffic_light: 0.00% traffic_sign: 0.00% vegetation: 0.00% terrain: 0.00% sky: 7.09% person: 0.00% rider: 0.00% car: 7.77% truck: 0.00% bus: 0.00% train: 0.00% motorcycle: 0.00% bicycle: 0.00% "
     ]
    },
    {
     "name": "stderr",
     "output_type": "stream",
     "text": [
      "                                                                     \r"
     ]
    },
    {
     "name": "stdout",
     "output_type": "stream",
     "text": [
      "Epoch 28/30 [0m 8s]\n",
      "Train mIoU: 7.45%, Test mIoU: 8.67%\n",
      "road: 81.07% sidewalk: 17.30% building: 38.62% wall: 0.00% fence: 4.55% pole: 0.00% traffic_light: 0.00% traffic_sign: 0.00% vegetation: 0.00% terrain: 0.00% sky: 16.83% person: 0.00% rider: 0.00% car: 6.37% truck: 0.00% bus: 0.00% train: 0.00% motorcycle: 0.00% bicycle: 0.00% "
     ]
    },
    {
     "name": "stderr",
     "output_type": "stream",
     "text": [
      "                                                                     \r"
     ]
    },
    {
     "name": "stdout",
     "output_type": "stream",
     "text": [
      "Epoch 29/30 [0m 8s]\n",
      "Train mIoU: 8.00%, Test mIoU: 8.91%\n",
      "road: 82.10% sidewalk: 23.00% building: 35.84% wall: 0.00% fence: 3.57% pole: 0.00% traffic_light: 0.00% traffic_sign: 0.00% vegetation: 0.00% terrain: 0.00% sky: 18.43% person: 0.00% rider: 0.00% car: 6.27% truck: 0.00% bus: 0.00% train: 0.00% motorcycle: 0.00% bicycle: 0.00% "
     ]
    },
    {
     "name": "stderr",
     "output_type": "stream",
     "text": [
      "                                                                     \r"
     ]
    },
    {
     "name": "stdout",
     "output_type": "stream",
     "text": [
      "Epoch 30/30 [0m 8s]\n",
      "Train mIoU: 7.29%, Test mIoU: 8.35%\n",
      "road: 83.22% sidewalk: 24.66% building: 35.75% wall: 0.00% fence: 0.00% pole: 0.00% traffic_light: 0.00% traffic_sign: 0.00% vegetation: 0.00% terrain: 0.00% sky: 7.25% person: 0.00% rider: 0.00% car: 7.68% truck: 0.00% bus: 0.00% train: 0.00% motorcycle: 0.00% bicycle: 0.00% \n",
      "Best mIoU: 10.14% at epoch 22\n",
      "road: 83.36% sidewalk: 12.85% building: 35.40% wall: 0.00% fence: 0.00% pole: 0.00% traffic_light: 0.00% traffic_sign: 0.00% vegetation: 35.49% terrain: 0.00% sky: 9.11% person: 0.00% rider: 0.00% car: 16.37% truck: 0.00% bus: 0.00% train: 0.00% motorcycle: 0.00% bicycle: 0.00% "
     ]
    },
    {
     "data": {
      "image/png": "[encoded data removed]",
      "text/plain": [
       "<Figure size 640x480 with 1 Axes>"
      ]
     },
     "metadata": {},
     "output_type": "display_data"
    }
   ],
   "source": [
    "#Testing Real-Time semantic segmentation network\n",
    "\n",
    "#Set up the model with the pretrained weights\n",
    "BiSeNet_model = BiSeNet(num_classes=19, context_path='resnet18').to(device)\n",
    "\n",
    "#Set up the loss function and the optimizer for BiSeNet\n",
    "BiSeNet_criterion = torch.nn.CrossEntropyLoss(ignore_index=255)\n",
    "BiSeNet_optimizer = torch.optim.SGD(BiSeNet_model.parameters(), lr=2.5e-2, momentum=0.9, weight_decay=1e-4)\n",
    "\n",
    "#Test latency and FPS\n",
    "#print(test_latency_FPS(BiSeNet_model, device, cityscapes_height, cityscapes_width))\n",
    "\n",
    "#Test FLOPs and number of parameters\n",
    "#print(test_FLOPs_params(BiSeNet_model, device, cityscapes_height, cityscapes_width))\n",
    "\n",
    "#Train the model\n",
    "all_train_miou, all_test_miou, best_epoch = train_model(BiSeNet_model, BiSeNet_criterion, BiSeNet_optimizer,\n",
    "            cityscapes_train_dataloader, cityscapes_test_dataloader, class_names, device, n_epochs,\n",
    "            lr_schedule=True, model_name='BiSeNet')\n",
    "\n",
    "plot_miou_over_epochs(all_train_miou, all_test_miou, best_epoch)"
   ]
  }
 ],
 "metadata": {
  "kernelspec": {
   "display_name": "Python 3",
   "language": "python",
   "name": "python3"
  },
  "language_info": {
   "codemirror_mode": {
    "name": "ipython",
    "version": 3
   },
   "file_extension": ".py",
   "mimetype": "text/x-python",
   "name": "python",
   "nbconvert_exporter": "python",
   "pygments_lexer": "ipython3",
   "version": "3.12.0"
  }
 },
 "nbformat": 4,
 "nbformat_minor": 2
}
