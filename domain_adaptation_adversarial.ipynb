{
  "cells": [
    {
      "cell_type": "code",
      "execution_count": 1,
      "metadata": {
        "colab": {
          "base_uri": "https://localhost:8080/"
        },
        "id": "M3NqhPV5NMrY",
        "outputId": "15a8b759-9535-492a-ff0a-ebd5136145a5"
      },
      "outputs": [
        {
          "output_type": "stream",
          "name": "stdout",
          "text": [
            "Mounted at /content/drive\n"
          ]
        }
      ],
      "source": [
        "#Mounting Google Drive from Google Colab\n",
        "from google.colab import drive\n",
        "drive.mount('/content/drive')"
      ]
    },
    {
      "cell_type": "code",
      "execution_count": 2,
      "metadata": {
        "colab": {
          "base_uri": "https://localhost:8080/"
        },
        "id": "HvBoRHw2NMrf",
        "outputId": "be676ae1-bd89-4bfc-c4b5-daaf77275d54"
      },
      "outputs": [
        {
          "output_type": "stream",
          "name": "stdout",
          "text": [
            "/content/drive/My Drive/MLDL2024_project1-Enrico\n"
          ]
        }
      ],
      "source": [
        "#Changing the current working directory to the Google Drive\n",
        "%cd /content/drive/My Drive/MLDL2024_project1-Enrico"
      ]
    },
    {
      "cell_type": "code",
      "execution_count": 3,
      "metadata": {
        "colab": {
          "base_uri": "https://localhost:8080/"
        },
        "id": "IVpRH1qiNMrg",
        "outputId": "fef9ac04-2827-47d2-8e85-15beaed5d5fc"
      },
      "outputs": [
        {
          "output_type": "stream",
          "name": "stdout",
          "text": [
            "Collecting fvcore\n",
            "  Downloading fvcore-0.1.5.post20221221.tar.gz (50 kB)\n",
            "\u001b[2K     \u001b[90m━━━━━━━━━━━━━━━━━━━━━━━━━━━━━━━━━━━━━━━━\u001b[0m \u001b[32m50.2/50.2 kB\u001b[0m \u001b[31m2.3 MB/s\u001b[0m eta \u001b[36m0:00:00\u001b[0m\n",
            "\u001b[?25h  Preparing metadata (setup.py) ... \u001b[?25l\u001b[?25hdone\n",
            "Requirement already satisfied: numpy in /usr/local/lib/python3.10/dist-packages (from fvcore) (1.25.2)\n",
            "Collecting yacs>=0.1.6 (from fvcore)\n",
            "  Downloading yacs-0.1.8-py3-none-any.whl (14 kB)\n",
            "Requirement already satisfied: pyyaml>=5.1 in /usr/local/lib/python3.10/dist-packages (from fvcore) (6.0.1)\n",
            "Requirement already satisfied: tqdm in /usr/local/lib/python3.10/dist-packages (from fvcore) (4.66.4)\n",
            "Requirement already satisfied: termcolor>=1.1 in /usr/local/lib/python3.10/dist-packages (from fvcore) (2.4.0)\n",
            "Requirement already satisfied: Pillow in /usr/local/lib/python3.10/dist-packages (from fvcore) (9.4.0)\n",
            "Requirement already satisfied: tabulate in /usr/local/lib/python3.10/dist-packages (from fvcore) (0.9.0)\n",
            "Collecting iopath>=0.1.7 (from fvcore)\n",
            "  Downloading iopath-0.1.10.tar.gz (42 kB)\n",
            "\u001b[2K     \u001b[90m━━━━━━━━━━━━━━━━━━━━━━━━━━━━━━━━━━━━━━━━\u001b[0m \u001b[32m42.2/42.2 kB\u001b[0m \u001b[31m6.5 MB/s\u001b[0m eta \u001b[36m0:00:00\u001b[0m\n",
            "\u001b[?25h  Preparing metadata (setup.py) ... \u001b[?25l\u001b[?25hdone\n",
            "Requirement already satisfied: typing_extensions in /usr/local/lib/python3.10/dist-packages (from iopath>=0.1.7->fvcore) (4.11.0)\n",
            "Collecting portalocker (from iopath>=0.1.7->fvcore)\n",
            "  Downloading portalocker-2.8.2-py3-none-any.whl (17 kB)\n",
            "Building wheels for collected packages: fvcore, iopath\n",
            "  Building wheel for fvcore (setup.py) ... \u001b[?25l\u001b[?25hdone\n",
            "  Created wheel for fvcore: filename=fvcore-0.1.5.post20221221-py3-none-any.whl size=61400 sha256=6b637bbb0e020a5586a134a13b7af184d2b90d447f2804310b1661ed2bdc9b9e\n",
            "  Stored in directory: /root/.cache/pip/wheels/01/c0/af/77c1cf53a1be9e42a52b48e5af2169d40ec2e89f7362489dd0\n",
            "  Building wheel for iopath (setup.py) ... \u001b[?25l\u001b[?25hdone\n",
            "  Created wheel for iopath: filename=iopath-0.1.10-py3-none-any.whl size=31532 sha256=e7e78d21891f9e2c0748a5cc29a9f76d7c27215bc150640b408cede6cdc237b7\n",
            "  Stored in directory: /root/.cache/pip/wheels/9a/a3/b6/ac0fcd1b4ed5cfeb3db92e6a0e476cfd48ed0df92b91080c1d\n",
            "Successfully built fvcore iopath\n",
            "Installing collected packages: yacs, portalocker, iopath, fvcore\n",
            "Successfully installed fvcore-0.1.5.post20221221 iopath-0.1.10 portalocker-2.8.2 yacs-0.1.8\n"
          ]
        }
      ],
      "source": [
        "!pip install -U fvcore"
      ]
    },
    {
      "cell_type": "code",
      "execution_count": 4,
      "metadata": {
        "id": "0is2E7LmNMrg"
      },
      "outputs": [],
      "source": [
        "#Importing the necessary libraries\n",
        "import os\n",
        "import torch\n",
        "import numpy as np\n",
        "from torch import nn\n",
        "from torchvision import transforms\n",
        "from torch.utils.data import DataLoader\n",
        "from datasets.gta5 import GTA5Custom\n",
        "from datasets.cityscapes import CityscapesCustom\n",
        "from models.bisenet.build_bisenet import BiSeNet\n",
        "from models.discriminator.discriminator import FCDiscriminator\n",
        "from train_adversarial import train_adversarial\n",
        "from utils import test_latency_FPS, test_FLOPs_params, plot_miou_over_epochs"
      ]
    },
    {
      "cell_type": "code",
      "execution_count": 5,
      "metadata": {
        "colab": {
          "base_uri": "https://localhost:8080/"
        },
        "id": "VC7mgy5PNMrh",
        "outputId": "ff7a3836-e24c-4c82-ddc9-1ab41c94f585"
      },
      "outputs": [
        {
          "output_type": "stream",
          "name": "stdout",
          "text": [
            "Using device: cuda\n"
          ]
        }
      ],
      "source": [
        "#Set device agnostic code\n",
        "device = torch.device(\"cuda\" if torch.cuda.is_available() else \"cpu\")\n",
        "print(f'Using device: {device}')\n",
        "\n",
        "#Set the manual seeds\n",
        "torch.manual_seed(42)\n",
        "if torch.cuda.is_available():\n",
        "    torch.cuda.manual_seed_all(42)\n",
        "\n",
        "#Set training parameters\n",
        "gta5_height, gta5_width = (720, 1280)\n",
        "gta5_batch_size = 8\n",
        "\n",
        "cityscapes_height, cityscapes_width = (512, 1024)\n",
        "cityscapes_batch_size = 8\n",
        "\n",
        "n_epochs = 50\n",
        "\n",
        "#Labels for adversarial training\n",
        "source_flag = 0\n",
        "target_flag = 1\n",
        "\n",
        "#Set up the interpolation layers\n",
        "interp_s = nn.Upsample(size=(gta5_height, gta5_width), mode='bilinear')\n",
        "interp_t = nn.Upsample(size=(cityscapes_height, cityscapes_width), mode='bilinear')"
      ]
    },
    {
      "cell_type": "code",
      "execution_count": 6,
      "metadata": {
        "colab": {
          "base_uri": "https://localhost:8080/"
        },
        "id": "1t2uLiKwNMri",
        "outputId": "514320f1-4725-4cb8-9bb7-c2c33868053d"
      },
      "outputs": [
        {
          "output_type": "stream",
          "name": "stdout",
          "text": [
            "GTA5 (Train): 2500 images, divided into 313 batches of size 8\n",
            "Cityscapes (Test): 500 images, divided into 63 batches of size 8\n"
          ]
        }
      ],
      "source": [
        "#Create Dataloaders for Cityscapes and GTA5\n",
        "gta5_dir = os.path.dirname(os.getcwd()) + '/GTA5/GTA5/'\n",
        "cityscapes_dir = os.path.dirname(os.getcwd()) + '/Cityscapes/Cityspaces/'\n",
        "\n",
        "augment1 = transforms.ColorJitter(brightness=0.3, contrast=0.3, saturation=0.3, hue=0.3)\n",
        "gta5_train_dataset_aug1 = GTA5Custom(gta5_dir, gta5_height, gta5_width, augment=augment1)\n",
        "cityscapes_test_dataset = CityscapesCustom(cityscapes_dir, 'val', cityscapes_height, cityscapes_width)\n",
        "\n",
        "gta5_train_dataloader_aug1 = DataLoader(gta5_train_dataset_aug1, gta5_batch_size, shuffle=True, num_workers=4)\n",
        "cityscapes_test_dataloader = DataLoader(cityscapes_test_dataset, cityscapes_batch_size, shuffle=False, num_workers=4)\n",
        "\n",
        "#Get the class names\n",
        "class_names = cityscapes_test_dataset.get_class_names()\n",
        "\n",
        "print(f'GTA5 (Train): {len(gta5_train_dataset_aug1)} images, divided into {len(gta5_train_dataloader_aug1)} batches of size {gta5_train_dataloader_aug1.batch_size}')\n",
        "print(f'Cityscapes (Test): {len(cityscapes_test_dataset)} images, divided into {len(cityscapes_test_dataloader)} batches of size {cityscapes_test_dataloader.batch_size}')"
      ]
    },
    {
      "cell_type": "code",
      "execution_count": 7,
      "metadata": {
        "colab": {
          "base_uri": "https://localhost:8080/",
          "height": 1000
        },
        "id": "A4JeERkGNMrj",
        "outputId": "56a92a25-b1eb-4a3a-f52d-52066a9772a9"
      },
      "outputs": [
        {
          "output_type": "stream",
          "name": "stderr",
          "text": [
            "Downloading: \"https://download.pytorch.org/models/resnet18-f37072fd.pth\" to /root/.cache/torch/hub/checkpoints/resnet18-f37072fd.pth\n",
            "100%|██████████| 44.7M/44.7M [00:00<00:00, 221MB/s]\n",
            "Downloading: \"https://download.pytorch.org/models/resnet101-63fe2227.pth\" to /root/.cache/torch/hub/checkpoints/resnet101-63fe2227.pth\n",
            "100%|██████████| 171M/171M [00:07<00:00, 25.0MB/s]\n"
          ]
        },
        {
          "output_type": "stream",
          "name": "stdout",
          "text": [
            "\n",
            "Epoch 1/50 [27m 33s]: Train mIoU=28.89%, Test mIoU=19.00%\n",
            "road: 66.10% sidewalk: 24.32% building: 70.51% wall: 10.63% fence: 10.92% pole: 9.57% traffic light: 0.01% traffic sign: 0.00% vegetation: 57.33% terrain: 8.84% sky: 62.28% person: 0.59% rider: 0.00% car: 31.82% truck: 8.07% bus: 0.05% train: 0.00% motorcycle: 0.00% bicycle: 0.00% "
          ]
        },
        {
          "output_type": "stream",
          "name": "stderr",
          "text": []
        },
        {
          "output_type": "stream",
          "name": "stdout",
          "text": [
            "\n",
            "Epoch 2/50 [3m 28s]: Train mIoU=40.63%, Test mIoU=24.22%\n",
            "road: 79.56% sidewalk: 35.81% building: 70.38% wall: 14.08% fence: 11.01% pole: 13.27% traffic light: 2.51% traffic sign: 3.25% vegetation: 65.29% terrain: 14.43% sky: 62.49% person: 8.47% rider: 0.00% car: 58.76% truck: 9.60% bus: 0.81% train: 10.53% motorcycle: 0.00% bicycle: 0.00% "
          ]
        },
        {
          "output_type": "stream",
          "name": "stderr",
          "text": []
        },
        {
          "output_type": "stream",
          "name": "stdout",
          "text": [
            "\n",
            "Epoch 3/50 [3m 27s]: Train mIoU=48.41%, Test mIoU=27.27%\n",
            "road: 84.34% sidewalk: 26.49% building: 73.83% wall: 15.11% fence: 8.79% pole: 10.71% traffic light: 4.89% traffic sign: 6.36% vegetation: 68.53% terrain: 14.27% sky: 73.01% person: 26.42% rider: 5.50% car: 68.13% truck: 22.94% bus: 3.43% train: 5.42% motorcycle: 0.00% bicycle: 0.00% "
          ]
        },
        {
          "output_type": "stream",
          "name": "stderr",
          "text": []
        },
        {
          "output_type": "stream",
          "name": "stdout",
          "text": [
            "\n",
            "Epoch 4/50 [3m 30s]: Train mIoU=55.19%, Test mIoU=25.56%\n",
            "road: 83.07% sidewalk: 23.48% building: 65.61% wall: 14.65% fence: 3.13% pole: 11.34% traffic light: 6.62% traffic sign: 7.78% vegetation: 57.62% terrain: 15.14% sky: 71.82% person: 28.81% rider: 4.60% car: 66.17% truck: 12.49% bus: 7.34% train: 4.08% motorcycle: 1.84% bicycle: 0.00% "
          ]
        },
        {
          "output_type": "stream",
          "name": "stderr",
          "text": []
        },
        {
          "output_type": "stream",
          "name": "stdout",
          "text": [
            "\n",
            "Epoch 5/50 [3m 27s]: Train mIoU=58.94%, Test mIoU=29.36%\n",
            "road: 85.61% sidewalk: 31.36% building: 74.20% wall: 14.61% fence: 16.57% pole: 15.95% traffic light: 11.16% traffic sign: 12.20% vegetation: 68.54% terrain: 12.34% sky: 68.02% person: 35.54% rider: 6.95% car: 65.94% truck: 14.50% bus: 8.59% train: 12.70% motorcycle: 3.00% bicycle: 0.00% "
          ]
        },
        {
          "output_type": "stream",
          "name": "stderr",
          "text": []
        },
        {
          "output_type": "stream",
          "name": "stdout",
          "text": [
            "\n",
            "Epoch 6/50 [3m 29s]: Train mIoU=61.58%, Test mIoU=30.20%\n",
            "road: 86.82% sidewalk: 35.44% building: 75.00% wall: 16.09% fence: 8.64% pole: 18.82% traffic light: 13.53% traffic sign: 13.32% vegetation: 72.62% terrain: 15.35% sky: 72.39% person: 36.08% rider: 8.86% car: 69.24% truck: 15.13% bus: 8.00% train: 5.66% motorcycle: 2.89% bicycle: 0.00% "
          ]
        },
        {
          "output_type": "stream",
          "name": "stderr",
          "text": []
        },
        {
          "output_type": "stream",
          "name": "stdout",
          "text": [
            "\n",
            "Epoch 7/50 [3m 29s]: Train mIoU=63.67%, Test mIoU=31.09%\n",
            "road: 86.36% sidewalk: 36.38% building: 73.57% wall: 18.39% fence: 10.49% pole: 18.14% traffic light: 12.48% traffic sign: 10.92% vegetation: 74.40% terrain: 19.10% sky: 74.46% person: 33.41% rider: 9.34% car: 68.34% truck: 18.42% bus: 7.62% train: 16.03% motorcycle: 2.89% bicycle: 0.00% "
          ]
        },
        {
          "output_type": "stream",
          "name": "stderr",
          "text": []
        },
        {
          "output_type": "stream",
          "name": "stdout",
          "text": [
            "\n",
            "Epoch 8/50 [3m 30s]: Train mIoU=65.15%, Test mIoU=30.33%\n",
            "road: 85.34% sidewalk: 35.44% building: 73.92% wall: 19.19% fence: 11.31% pole: 16.96% traffic light: 13.38% traffic sign: 9.83% vegetation: 72.97% terrain: 18.87% sky: 71.62% person: 34.95% rider: 5.84% car: 63.72% truck: 13.65% bus: 12.21% train: 15.93% motorcycle: 1.22% bicycle: 0.02% "
          ]
        },
        {
          "output_type": "stream",
          "name": "stderr",
          "text": []
        },
        {
          "output_type": "stream",
          "name": "stdout",
          "text": [
            "\n",
            "Epoch 9/50 [3m 34s]: Train mIoU=66.01%, Test mIoU=31.17%\n",
            "road: 86.75% sidewalk: 33.97% building: 76.66% wall: 15.08% fence: 15.61% pole: 18.62% traffic light: 15.62% traffic sign: 11.77% vegetation: 69.76% terrain: 12.55% sky: 74.97% person: 38.73% rider: 4.64% car: 71.11% truck: 17.47% bus: 10.43% train: 14.18% motorcycle: 4.22% bicycle: 0.01% "
          ]
        },
        {
          "output_type": "stream",
          "name": "stderr",
          "text": []
        },
        {
          "output_type": "stream",
          "name": "stdout",
          "text": [
            "\n",
            "Epoch 10/50 [3m 31s]: Train mIoU=67.02%, Test mIoU=32.00%\n",
            "road: 88.00% sidewalk: 35.01% building: 75.73% wall: 19.53% fence: 15.57% pole: 19.41% traffic light: 15.35% traffic sign: 12.16% vegetation: 72.98% terrain: 16.34% sky: 68.45% person: 36.20% rider: 9.41% car: 72.81% truck: 18.45% bus: 13.56% train: 13.90% motorcycle: 5.19% bicycle: 0.02% "
          ]
        },
        {
          "output_type": "stream",
          "name": "stderr",
          "text": []
        },
        {
          "output_type": "stream",
          "name": "stdout",
          "text": [
            "\n",
            "Epoch 11/50 [3m 29s]: Train mIoU=68.13%, Test mIoU=31.82%\n",
            "road: 86.91% sidewalk: 36.00% building: 74.78% wall: 15.77% fence: 14.13% pole: 21.06% traffic light: 15.48% traffic sign: 12.17% vegetation: 76.46% terrain: 22.71% sky: 75.18% person: 38.86% rider: 4.63% car: 67.59% truck: 14.10% bus: 11.93% train: 14.28% motorcycle: 2.61% bicycle: 0.00% "
          ]
        },
        {
          "output_type": "stream",
          "name": "stderr",
          "text": []
        },
        {
          "output_type": "stream",
          "name": "stdout",
          "text": [
            "\n",
            "Epoch 12/50 [3m 33s]: Train mIoU=69.02%, Test mIoU=32.17%\n",
            "road: 86.99% sidewalk: 30.27% building: 76.85% wall: 15.64% fence: 13.43% pole: 20.55% traffic light: 16.85% traffic sign: 15.01% vegetation: 72.81% terrain: 15.18% sky: 77.83% person: 36.79% rider: 6.74% car: 74.42% truck: 20.40% bus: 10.08% train: 14.09% motorcycle: 7.09% bicycle: 0.28% "
          ]
        },
        {
          "output_type": "stream",
          "name": "stderr",
          "text": []
        },
        {
          "output_type": "stream",
          "name": "stdout",
          "text": [
            "\n",
            "Epoch 13/50 [3m 32s]: Train mIoU=70.54%, Test mIoU=31.88%\n",
            "road: 87.07% sidewalk: 33.37% building: 76.18% wall: 18.41% fence: 15.79% pole: 19.10% traffic light: 13.81% traffic sign: 14.39% vegetation: 73.31% terrain: 14.38% sky: 76.78% person: 39.14% rider: 3.62% car: 72.20% truck: 18.10% bus: 9.17% train: 17.63% motorcycle: 3.25% bicycle: 0.08% "
          ]
        },
        {
          "output_type": "stream",
          "name": "stderr",
          "text": []
        },
        {
          "output_type": "stream",
          "name": "stdout",
          "text": [
            "\n",
            "Epoch 14/50 [3m 33s]: Train mIoU=70.83%, Test mIoU=32.49%\n",
            "road: 86.59% sidewalk: 33.89% building: 76.60% wall: 18.41% fence: 16.05% pole: 21.28% traffic light: 17.79% traffic sign: 13.40% vegetation: 73.61% terrain: 15.62% sky: 76.72% person: 36.27% rider: 6.38% car: 71.42% truck: 19.32% bus: 13.59% train: 15.91% motorcycle: 4.29% bicycle: 0.25% "
          ]
        },
        {
          "output_type": "stream",
          "name": "stderr",
          "text": []
        },
        {
          "output_type": "stream",
          "name": "stdout",
          "text": [
            "\n",
            "Epoch 15/50 [3m 30s]: Train mIoU=71.51%, Test mIoU=30.47%\n",
            "road: 83.13% sidewalk: 38.86% building: 71.26% wall: 16.19% fence: 9.55% pole: 19.39% traffic light: 16.37% traffic sign: 13.58% vegetation: 73.47% terrain: 20.82% sky: 73.16% person: 39.70% rider: 2.50% car: 63.80% truck: 11.16% bus: 10.63% train: 14.06% motorcycle: 1.22% bicycle: 0.16% "
          ]
        },
        {
          "output_type": "stream",
          "name": "stderr",
          "text": []
        },
        {
          "output_type": "stream",
          "name": "stdout",
          "text": [
            "\n",
            "Epoch 16/50 [3m 32s]: Train mIoU=71.08%, Test mIoU=31.55%\n",
            "road: 86.25% sidewalk: 32.05% building: 76.32% wall: 17.19% fence: 15.77% pole: 18.66% traffic light: 17.08% traffic sign: 14.57% vegetation: 72.78% terrain: 14.68% sky: 76.69% person: 33.64% rider: 6.79% car: 73.07% truck: 20.45% bus: 12.92% train: 5.17% motorcycle: 4.79% bicycle: 0.67% "
          ]
        },
        {
          "output_type": "stream",
          "name": "stderr",
          "text": []
        },
        {
          "output_type": "stream",
          "name": "stdout",
          "text": [
            "\n",
            "Epoch 17/50 [3m 30s]: Train mIoU=72.12%, Test mIoU=32.44%\n",
            "road: 86.90% sidewalk: 33.70% building: 77.37% wall: 17.28% fence: 15.29% pole: 21.76% traffic light: 17.93% traffic sign: 15.42% vegetation: 74.31% terrain: 16.85% sky: 75.32% person: 37.21% rider: 11.56% car: 72.39% truck: 16.56% bus: 9.69% train: 9.87% motorcycle: 5.79% bicycle: 1.16% "
          ]
        },
        {
          "output_type": "stream",
          "name": "stderr",
          "text": []
        },
        {
          "output_type": "stream",
          "name": "stdout",
          "text": [
            "\n",
            "Epoch 18/50 [3m 27s]: Train mIoU=73.53%, Test mIoU=30.11%\n",
            "road: 84.83% sidewalk: 31.37% building: 74.33% wall: 18.04% fence: 12.66% pole: 20.23% traffic light: 15.98% traffic sign: 12.77% vegetation: 73.47% terrain: 16.35% sky: 75.10% person: 36.23% rider: 3.62% car: 69.29% truck: 9.53% bus: 6.93% train: 8.43% motorcycle: 2.92% bicycle: 0.11% "
          ]
        },
        {
          "output_type": "stream",
          "name": "stderr",
          "text": []
        },
        {
          "output_type": "stream",
          "name": "stdout",
          "text": [
            "\n",
            "Epoch 19/50 [3m 31s]: Train mIoU=73.31%, Test mIoU=32.20%\n",
            "road: 85.94% sidewalk: 36.88% building: 76.93% wall: 17.83% fence: 17.24% pole: 20.67% traffic light: 17.99% traffic sign: 14.38% vegetation: 74.79% terrain: 17.84% sky: 74.31% person: 35.01% rider: 5.88% car: 69.18% truck: 21.55% bus: 11.46% train: 9.03% motorcycle: 3.98% bicycle: 1.01% "
          ]
        },
        {
          "output_type": "stream",
          "name": "stderr",
          "text": []
        },
        {
          "output_type": "stream",
          "name": "stdout",
          "text": [
            "\n",
            "Epoch 20/50 [3m 28s]: Train mIoU=74.47%, Test mIoU=30.75%\n",
            "road: 83.46% sidewalk: 33.56% building: 74.95% wall: 18.96% fence: 12.87% pole: 20.37% traffic light: 16.41% traffic sign: 12.97% vegetation: 73.71% terrain: 15.50% sky: 74.92% person: 37.31% rider: 2.01% car: 66.63% truck: 12.30% bus: 12.17% train: 12.67% motorcycle: 2.46% bicycle: 0.98% "
          ]
        },
        {
          "output_type": "stream",
          "name": "stderr",
          "text": []
        },
        {
          "output_type": "stream",
          "name": "stdout",
          "text": [
            "\n",
            "Epoch 21/50 [3m 28s]: Train mIoU=74.47%, Test mIoU=30.66%\n",
            "road: 84.27% sidewalk: 26.54% building: 77.69% wall: 16.51% fence: 17.76% pole: 22.91% traffic light: 14.50% traffic sign: 13.06% vegetation: 71.92% terrain: 13.64% sky: 75.21% person: 36.75% rider: 4.97% car: 68.79% truck: 18.79% bus: 9.68% train: 3.29% motorcycle: 5.90% bicycle: 0.42% "
          ]
        },
        {
          "output_type": "stream",
          "name": "stderr",
          "text": []
        },
        {
          "output_type": "stream",
          "name": "stdout",
          "text": [
            "\n",
            "Epoch 22/50 [3m 29s]: Train mIoU=68.37%, Test mIoU=29.18%\n",
            "road: 83.82% sidewalk: 33.71% building: 76.49% wall: 16.65% fence: 3.76% pole: 22.10% traffic light: 16.56% traffic sign: 9.45% vegetation: 73.52% terrain: 18.68% sky: 72.52% person: 38.65% rider: 5.27% car: 63.04% truck: 10.48% bus: 6.09% train: 1.96% motorcycle: 1.71% bicycle: 0.02% "
          ]
        },
        {
          "output_type": "stream",
          "name": "stderr",
          "text": []
        },
        {
          "output_type": "stream",
          "name": "stdout",
          "text": [
            "\n",
            "Epoch 23/50 [3m 30s]: Train mIoU=69.71%, Test mIoU=31.01%\n",
            "road: 83.82% sidewalk: 33.17% building: 77.01% wall: 14.89% fence: 14.00% pole: 22.86% traffic light: 16.24% traffic sign: 10.92% vegetation: 75.39% terrain: 21.36% sky: 73.52% person: 39.60% rider: 6.75% car: 62.20% truck: 19.78% bus: 3.80% train: 9.80% motorcycle: 3.60% bicycle: 0.53% "
          ]
        },
        {
          "output_type": "stream",
          "name": "stderr",
          "text": []
        },
        {
          "output_type": "stream",
          "name": "stdout",
          "text": [
            "\n",
            "Epoch 24/50 [3m 31s]: Train mIoU=73.94%, Test mIoU=32.02%\n",
            "road: 85.89% sidewalk: 30.35% building: 78.05% wall: 15.12% fence: 15.19% pole: 22.46% traffic light: 17.72% traffic sign: 13.64% vegetation: 70.56% terrain: 12.15% sky: 78.17% person: 39.16% rider: 6.62% car: 70.54% truck: 23.26% bus: 14.20% train: 10.08% motorcycle: 4.38% bicycle: 0.90% "
          ]
        },
        {
          "output_type": "stream",
          "name": "stderr",
          "text": []
        },
        {
          "output_type": "stream",
          "name": "stdout",
          "text": [
            "\n",
            "Epoch 25/50 [3m 27s]: Train mIoU=75.15%, Test mIoU=32.83%\n",
            "road: 86.72% sidewalk: 35.04% building: 78.04% wall: 16.39% fence: 13.75% pole: 22.64% traffic light: 16.54% traffic sign: 13.49% vegetation: 74.89% terrain: 16.57% sky: 76.31% person: 40.90% rider: 6.77% car: 71.98% truck: 21.97% bus: 13.26% train: 13.65% motorcycle: 3.64% bicycle: 1.30% "
          ]
        },
        {
          "output_type": "stream",
          "name": "stderr",
          "text": []
        },
        {
          "output_type": "stream",
          "name": "stdout",
          "text": [
            "\n",
            "Epoch 26/50 [3m 29s]: Train mIoU=75.99%, Test mIoU=31.30%\n",
            "road: 85.66% sidewalk: 32.14% building: 76.42% wall: 17.19% fence: 12.95% pole: 21.12% traffic light: 17.36% traffic sign: 12.77% vegetation: 68.23% terrain: 12.16% sky: 75.71% person: 40.09% rider: 5.22% car: 70.50% truck: 22.57% bus: 13.54% train: 6.64% motorcycle: 3.57% bicycle: 0.87% "
          ]
        },
        {
          "output_type": "stream",
          "name": "stderr",
          "text": []
        },
        {
          "output_type": "stream",
          "name": "stdout",
          "text": [
            "\n",
            "Epoch 27/50 [3m 30s]: Train mIoU=76.40%, Test mIoU=31.69%\n",
            "road: 85.82% sidewalk: 35.31% building: 77.41% wall: 14.63% fence: 14.71% pole: 22.36% traffic light: 15.05% traffic sign: 10.93% vegetation: 73.82% terrain: 16.68% sky: 75.95% person: 38.20% rider: 4.16% car: 68.31% truck: 23.22% bus: 13.48% train: 8.32% motorcycle: 2.76% bicycle: 0.90% "
          ]
        },
        {
          "output_type": "stream",
          "name": "stderr",
          "text": []
        },
        {
          "output_type": "stream",
          "name": "stdout",
          "text": [
            "\n",
            "Epoch 28/50 [3m 32s]: Train mIoU=76.69%, Test mIoU=31.17%\n",
            "road: 87.18% sidewalk: 35.94% building: 77.36% wall: 17.23% fence: 11.63% pole: 21.06% traffic light: 14.76% traffic sign: 11.30% vegetation: 74.49% terrain: 16.97% sky: 74.60% person: 34.04% rider: 3.61% car: 73.10% truck: 20.65% bus: 9.33% train: 4.68% motorcycle: 3.62% bicycle: 0.62% "
          ]
        },
        {
          "output_type": "stream",
          "name": "stderr",
          "text": []
        },
        {
          "output_type": "stream",
          "name": "stdout",
          "text": [
            "\n",
            "Epoch 29/50 [3m 30s]: Train mIoU=76.84%, Test mIoU=31.42%\n",
            "road: 87.01% sidewalk: 33.51% building: 77.45% wall: 17.78% fence: 11.77% pole: 22.48% traffic light: 16.91% traffic sign: 12.13% vegetation: 73.57% terrain: 15.92% sky: 76.86% person: 36.64% rider: 3.12% car: 71.88% truck: 18.84% bus: 10.23% train: 7.20% motorcycle: 3.43% bicycle: 0.24% "
          ]
        },
        {
          "output_type": "stream",
          "name": "stderr",
          "text": []
        },
        {
          "output_type": "stream",
          "name": "stdout",
          "text": [
            "\n",
            "Epoch 30/50 [3m 28s]: Train mIoU=77.12%, Test mIoU=31.61%\n",
            "road: 86.31% sidewalk: 32.82% building: 78.18% wall: 15.55% fence: 11.24% pole: 22.89% traffic light: 16.63% traffic sign: 11.81% vegetation: 73.74% terrain: 15.38% sky: 77.30% person: 36.22% rider: 4.13% car: 70.81% truck: 21.93% bus: 13.37% train: 8.15% motorcycle: 3.40% bicycle: 0.71% "
          ]
        },
        {
          "output_type": "stream",
          "name": "stderr",
          "text": []
        },
        {
          "output_type": "stream",
          "name": "stdout",
          "text": [
            "\n",
            "Epoch 31/50 [3m 27s]: Train mIoU=77.45%, Test mIoU=31.32%\n",
            "road: 87.40% sidewalk: 35.80% building: 75.91% wall: 17.25% fence: 9.67% pole: 20.89% traffic light: 16.15% traffic sign: 15.26% vegetation: 71.19% terrain: 14.49% sky: 77.08% person: 32.76% rider: 4.01% car: 70.92% truck: 18.83% bus: 13.00% train: 10.79% motorcycle: 3.38% bicycle: 0.36% "
          ]
        },
        {
          "output_type": "stream",
          "name": "stderr",
          "text": []
        },
        {
          "output_type": "stream",
          "name": "stdout",
          "text": [
            "\n",
            "Epoch 32/50 [3m 33s]: Train mIoU=77.69%, Test mIoU=31.10%\n",
            "road: 86.74% sidewalk: 32.46% building: 76.86% wall: 19.35% fence: 12.17% pole: 20.53% traffic light: 14.90% traffic sign: 10.59% vegetation: 73.73% terrain: 15.51% sky: 76.38% person: 33.53% rider: 3.28% car: 70.39% truck: 20.29% bus: 12.07% train: 7.54% motorcycle: 4.12% bicycle: 0.56% "
          ]
        },
        {
          "output_type": "stream",
          "name": "stderr",
          "text": []
        },
        {
          "output_type": "stream",
          "name": "stdout",
          "text": [
            "\n",
            "Epoch 33/50 [3m 29s]: Train mIoU=77.91%, Test mIoU=30.86%\n",
            "road: 86.46% sidewalk: 34.96% building: 76.18% wall: 17.83% fence: 11.95% pole: 21.49% traffic light: 14.60% traffic sign: 9.72% vegetation: 75.23% terrain: 17.97% sky: 75.95% person: 31.59% rider: 2.22% car: 69.52% truck: 21.82% bus: 11.29% train: 4.11% motorcycle: 3.06% bicycle: 0.30% "
          ]
        },
        {
          "output_type": "stream",
          "name": "stderr",
          "text": []
        },
        {
          "output_type": "stream",
          "name": "stdout",
          "text": [
            "\n",
            "Epoch 34/50 [3m 29s]: Train mIoU=78.07%, Test mIoU=31.16%\n",
            "road: 86.78% sidewalk: 36.30% building: 76.06% wall: 19.86% fence: 10.44% pole: 21.23% traffic light: 15.57% traffic sign: 12.63% vegetation: 72.40% terrain: 15.79% sky: 76.36% person: 33.16% rider: 2.27% car: 70.15% truck: 20.69% bus: 11.41% train: 7.34% motorcycle: 3.28% bicycle: 0.27% "
          ]
        },
        {
          "output_type": "stream",
          "name": "stderr",
          "text": []
        },
        {
          "output_type": "stream",
          "name": "stdout",
          "text": [
            "\n",
            "Epoch 35/50 [3m 26s]: Train mIoU=78.38%, Test mIoU=32.21%\n",
            "road: 86.66% sidewalk: 33.17% building: 78.23% wall: 19.62% fence: 15.91% pole: 24.71% traffic light: 16.78% traffic sign: 11.63% vegetation: 72.91% terrain: 14.88% sky: 76.92% person: 34.82% rider: 3.60% car: 71.45% truck: 20.24% bus: 9.38% train: 14.66% motorcycle: 5.50% bicycle: 0.86% "
          ]
        },
        {
          "output_type": "stream",
          "name": "stderr",
          "text": []
        },
        {
          "output_type": "stream",
          "name": "stdout",
          "text": [
            "\n",
            "Epoch 36/50 [3m 30s]: Train mIoU=78.44%, Test mIoU=31.46%\n",
            "road: 86.72% sidewalk: 33.56% building: 78.07% wall: 16.68% fence: 14.88% pole: 23.51% traffic light: 17.33% traffic sign: 11.41% vegetation: 74.32% terrain: 16.06% sky: 76.34% person: 34.99% rider: 2.52% car: 70.87% truck: 19.49% bus: 10.87% train: 6.11% motorcycle: 3.62% bicycle: 0.48% "
          ]
        },
        {
          "output_type": "stream",
          "name": "stderr",
          "text": []
        },
        {
          "output_type": "stream",
          "name": "stdout",
          "text": [
            "\n",
            "Epoch 37/50 [3m 29s]: Train mIoU=78.73%, Test mIoU=31.82%\n",
            "road: 87.31% sidewalk: 34.32% building: 77.64% wall: 18.11% fence: 12.81% pole: 23.69% traffic light: 15.13% traffic sign: 9.57% vegetation: 73.45% terrain: 15.78% sky: 75.32% person: 36.66% rider: 5.95% car: 72.98% truck: 21.35% bus: 10.29% train: 9.31% motorcycle: 4.02% bicycle: 0.99% "
          ]
        },
        {
          "output_type": "stream",
          "name": "stderr",
          "text": []
        },
        {
          "output_type": "stream",
          "name": "stdout",
          "text": [
            "\n",
            "Epoch 38/50 [3m 31s]: Train mIoU=78.76%, Test mIoU=31.01%\n",
            "road: 86.63% sidewalk: 31.89% building: 76.40% wall: 20.69% fence: 11.45% pole: 22.61% traffic light: 15.64% traffic sign: 9.02% vegetation: 74.05% terrain: 16.66% sky: 75.62% person: 33.03% rider: 2.91% car: 70.58% truck: 19.66% bus: 8.90% train: 8.77% motorcycle: 4.29% bicycle: 0.38% "
          ]
        },
        {
          "output_type": "stream",
          "name": "stderr",
          "text": []
        },
        {
          "output_type": "stream",
          "name": "stdout",
          "text": [
            "\n",
            "Epoch 39/50 [3m 33s]: Train mIoU=79.08%, Test mIoU=32.30%\n",
            "road: 87.69% sidewalk: 35.69% building: 77.12% wall: 19.64% fence: 12.23% pole: 24.13% traffic light: 16.98% traffic sign: 12.22% vegetation: 74.13% terrain: 17.29% sky: 77.47% person: 31.59% rider: 1.82% car: 72.51% truck: 19.83% bus: 10.99% train: 18.01% motorcycle: 4.01% bicycle: 0.31% "
          ]
        },
        {
          "output_type": "stream",
          "name": "stderr",
          "text": []
        },
        {
          "output_type": "stream",
          "name": "stdout",
          "text": [
            "\n",
            "Epoch 40/50 [3m 28s]: Train mIoU=79.05%, Test mIoU=31.65%\n",
            "road: 87.52% sidewalk: 32.59% building: 77.34% wall: 18.06% fence: 16.04% pole: 22.35% traffic light: 16.97% traffic sign: 9.94% vegetation: 70.24% terrain: 12.94% sky: 77.82% person: 32.15% rider: 3.42% car: 73.41% truck: 22.29% bus: 9.76% train: 13.87% motorcycle: 4.20% bicycle: 0.47% "
          ]
        },
        {
          "output_type": "stream",
          "name": "stderr",
          "text": []
        },
        {
          "output_type": "stream",
          "name": "stdout",
          "text": [
            "\n",
            "Epoch 41/50 [3m 29s]: Train mIoU=79.12%, Test mIoU=31.10%\n",
            "road: 86.03% sidewalk: 36.03% building: 75.02% wall: 20.53% fence: 12.12% pole: 20.65% traffic light: 17.87% traffic sign: 12.67% vegetation: 71.35% terrain: 16.06% sky: 75.22% person: 29.86% rider: 2.62% car: 67.74% truck: 20.80% bus: 13.66% train: 8.91% motorcycle: 3.42% bicycle: 0.34% "
          ]
        },
        {
          "output_type": "stream",
          "name": "stderr",
          "text": []
        },
        {
          "output_type": "stream",
          "name": "stdout",
          "text": [
            "\n",
            "Epoch 42/50 [3m 32s]: Train mIoU=79.42%, Test mIoU=31.24%\n",
            "road: 87.22% sidewalk: 33.08% building: 77.79% wall: 20.01% fence: 15.50% pole: 22.56% traffic light: 16.90% traffic sign: 9.80% vegetation: 73.93% terrain: 15.77% sky: 77.41% person: 29.87% rider: 1.31% car: 71.16% truck: 17.97% bus: 9.69% train: 8.77% motorcycle: 4.46% bicycle: 0.31% "
          ]
        },
        {
          "output_type": "stream",
          "name": "stderr",
          "text": []
        },
        {
          "output_type": "stream",
          "name": "stdout",
          "text": [
            "\n",
            "Epoch 43/50 [3m 30s]: Train mIoU=79.49%, Test mIoU=32.00%\n",
            "road: 87.27% sidewalk: 34.79% building: 78.72% wall: 21.20% fence: 15.03% pole: 24.92% traffic light: 17.33% traffic sign: 12.20% vegetation: 73.68% terrain: 16.30% sky: 77.00% person: 30.67% rider: 3.67% car: 72.93% truck: 20.63% bus: 9.75% train: 6.20% motorcycle: 5.04% bicycle: 0.58% "
          ]
        },
        {
          "output_type": "stream",
          "name": "stderr",
          "text": []
        },
        {
          "output_type": "stream",
          "name": "stdout",
          "text": [
            "\n",
            "Epoch 44/50 [3m 32s]: Train mIoU=79.72%, Test mIoU=32.15%\n",
            "road: 87.77% sidewalk: 34.37% building: 77.64% wall: 19.52% fence: 13.43% pole: 23.92% traffic light: 16.33% traffic sign: 12.85% vegetation: 73.80% terrain: 16.29% sky: 74.30% person: 30.91% rider: 5.69% car: 73.93% truck: 20.49% bus: 7.21% train: 16.69% motorcycle: 5.14% bicycle: 0.49% "
          ]
        },
        {
          "output_type": "stream",
          "name": "stderr",
          "text": []
        },
        {
          "output_type": "stream",
          "name": "stdout",
          "text": [
            "\n",
            "Epoch 45/50 [3m 29s]: Train mIoU=79.62%, Test mIoU=31.22%\n",
            "road: 86.40% sidewalk: 33.27% building: 78.02% wall: 20.93% fence: 15.76% pole: 23.19% traffic light: 16.42% traffic sign: 7.71% vegetation: 72.55% terrain: 15.85% sky: 75.74% person: 30.73% rider: 3.46% car: 70.12% truck: 22.10% bus: 8.56% train: 6.86% motorcycle: 4.86% bicycle: 0.72% "
          ]
        },
        {
          "output_type": "stream",
          "name": "stderr",
          "text": []
        },
        {
          "output_type": "stream",
          "name": "stdout",
          "text": [
            "\n",
            "Epoch 46/50 [3m 29s]: Train mIoU=79.88%, Test mIoU=32.31%\n",
            "road: 87.55% sidewalk: 35.63% building: 77.72% wall: 19.75% fence: 15.96% pole: 23.33% traffic light: 17.40% traffic sign: 12.24% vegetation: 72.60% terrain: 14.73% sky: 72.19% person: 31.41% rider: 3.98% car: 73.29% truck: 20.97% bus: 10.36% train: 18.32% motorcycle: 5.60% bicycle: 0.78% "
          ]
        },
        {
          "output_type": "stream",
          "name": "stderr",
          "text": []
        },
        {
          "output_type": "stream",
          "name": "stdout",
          "text": [
            "\n",
            "Epoch 47/50 [3m 32s]: Train mIoU=80.00%, Test mIoU=31.40%\n",
            "road: 87.67% sidewalk: 35.68% building: 77.68% wall: 19.98% fence: 14.17% pole: 23.91% traffic light: 16.48% traffic sign: 10.30% vegetation: 69.62% terrain: 13.67% sky: 69.24% person: 30.99% rider: 4.33% car: 73.69% truck: 18.90% bus: 10.80% train: 14.58% motorcycle: 4.33% bicycle: 0.58% "
          ]
        },
        {
          "output_type": "stream",
          "name": "stderr",
          "text": []
        },
        {
          "output_type": "stream",
          "name": "stdout",
          "text": [
            "\n",
            "Epoch 48/50 [3m 35s]: Train mIoU=80.09%, Test mIoU=30.92%\n",
            "road: 86.57% sidewalk: 32.10% building: 77.69% wall: 18.62% fence: 14.12% pole: 24.66% traffic light: 16.42% traffic sign: 11.18% vegetation: 68.08% terrain: 12.66% sky: 66.43% person: 29.53% rider: 5.56% car: 71.27% truck: 20.10% bus: 8.79% train: 17.59% motorcycle: 5.66% bicycle: 0.44% "
          ]
        },
        {
          "output_type": "stream",
          "name": "stderr",
          "text": []
        },
        {
          "output_type": "stream",
          "name": "stdout",
          "text": [
            "\n",
            "Epoch 49/50 [3m 32s]: Train mIoU=80.04%, Test mIoU=30.78%\n",
            "road: 86.09% sidewalk: 36.92% building: 74.94% wall: 20.15% fence: 10.85% pole: 21.58% traffic light: 16.48% traffic sign: 10.61% vegetation: 71.16% terrain: 17.08% sky: 70.39% person: 30.13% rider: 2.82% car: 66.33% truck: 17.47% bus: 11.64% train: 16.51% motorcycle: 3.12% bicycle: 0.53% "
          ]
        },
        {
          "output_type": "stream",
          "name": "stderr",
          "text": []
        },
        {
          "output_type": "stream",
          "name": "stdout",
          "text": [
            "\n",
            "Epoch 50/50 [3m 32s]: Train mIoU=80.44%, Test mIoU=30.44%\n",
            "road: 86.33% sidewalk: 36.18% building: 75.91% wall: 20.93% fence: 11.22% pole: 23.47% traffic light: 16.86% traffic sign: 10.60% vegetation: 69.71% terrain: 15.79% sky: 64.11% person: 30.92% rider: 2.72% car: 67.83% truck: 18.10% bus: 10.41% train: 12.98% motorcycle: 3.78% bicycle: 0.49% \n",
            "Best mIoU=32.83% at epoch 25\n",
            "road: 86.72% sidewalk: 35.04% building: 78.04% wall: 16.39% fence: 13.75% pole: 22.64% traffic light: 16.54% traffic sign: 13.49% vegetation: 74.89% terrain: 16.57% sky: 76.31% person: 40.90% rider: 6.77% car: 71.98% truck: 21.97% bus: 13.26% train: 13.65% motorcycle: 3.64% bicycle: 1.30% "
          ]
        },
        {
          "output_type": "display_data",
          "data": {
            "text/plain": [
              "<Figure size 640x480 with 1 Axes>"
            ],
            "image/png": "[encoded data removed]"
          },
          "metadata": {}
        }
      ],
      "source": [
        "#Testing Domain Adaptation with Adversarial Training\n",
        "\n",
        "#Set up the segmentation network (our Generator) with the pretrained weights\n",
        "g_model = BiSeNet(num_classes=19, context_path='resnet18').to(device)\n",
        "\n",
        "#Set up the loss function and the optimizer for the Generator\n",
        "g_criterion = torch.nn.CrossEntropyLoss(ignore_index=255)\n",
        "g_optimizer = torch.optim.SGD(g_model.parameters(), lr=2.5e-2, momentum=0.9, weight_decay=1e-4)\n",
        "\n",
        "#Set up the Discriminator\n",
        "d_model = FCDiscriminator(num_classes=19).to(device)\n",
        "\n",
        "#Set up the loss function and the optimizer for the Discriminator\n",
        "d_criterion = torch.nn.BCEWithLogitsLoss()\n",
        "d_optimizer = torch.optim.Adam(d_model.parameters(), lr=1e-4, betas=(0.9, 0.99))\n",
        "\n",
        "#Train the adversarial model\n",
        "all_train_miou, all_test_miou, best_epoch = train_adversarial(g_model, d_model, g_criterion, d_criterion,\n",
        "                                                              g_optimizer, d_optimizer,\n",
        "                                                              source_flag, target_flag,\n",
        "                                                              gta5_train_dataloader_aug1, cityscapes_test_dataloader,\n",
        "                                                              interp_s, interp_t,\n",
        "                                                              class_names, device, n_epochs, 'BiSeNet_adversarial')\n",
        "\n",
        "plot_miou_over_epochs(all_train_miou, all_test_miou, best_epoch, 'BiSeNet_adversarial')"
      ]
    }
  ],
  "metadata": {
    "kernelspec": {
      "display_name": "Python 3",
      "name": "python3"
    },
    "language_info": {
      "codemirror_mode": {
        "name": "ipython",
        "version": 3
      },
      "file_extension": ".py",
      "mimetype": "text/x-python",
      "name": "python",
      "nbconvert_exporter": "python",
      "pygments_lexer": "ipython3",
      "version": "3.12.0"
    },
    "colab": {
      "provenance": [],
      "machine_shape": "hm",
      "gpuType": "A100"
    },
    "accelerator": "GPU"
  },
  "nbformat": 4,
  "nbformat_minor": 0
}